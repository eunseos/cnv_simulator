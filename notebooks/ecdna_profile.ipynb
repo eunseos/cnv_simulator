{
 "cells": [
  {
   "cell_type": "code",
   "execution_count": 4,
   "id": "a8075af9",
   "metadata": {},
   "outputs": [],
   "source": [
    "import pandas as pd\n",
    "import numpy as np\n",
    "import matplotlib.pyplot as plt\n",
    "import seaborn as sns\n",
    "import math\n",
    "import json\n",
    "from matplotlib.colors import ListedColormap\n",
    "\n",
    "BASEDIR = \"/data1/shahs3/users/sunge/cnv_simulator\"\n",
    "\n",
    "DATADIR = f\"{BASEDIR}/data/ecdna_samples\"\n",
    "sample_name = \"PM_0510\""
   ]
  },
  {
   "cell_type": "code",
   "execution_count": 5,
   "id": "3ee0b591",
   "metadata": {},
   "outputs": [],
   "source": [
    "def get_chr_bin_idxs(chr, chr_df, region_start, region_end):\n",
    "    \"\"\"\n",
    "    Get the bins for a specific chromosome within a specified region.\n",
    "    \"\"\"\n",
    "    bin_start = (math.floor(region_start / 500000) * 500000) - (500000 * 1)\n",
    "    bin_end = (math.ceil(region_end / 500000) * 500000) + (500000 * 1)\n",
    "\n",
    "    subset = chr_df[(chr_df[\"start\"] >= bin_start) & (chr_df[\"start\"] <= bin_end)]\n",
    "    if subset.empty:\n",
    "        raise ValueError(f\"No bins found for chromosome {chr} in the specified range.\")\n",
    "\n",
    "    return subset"
   ]
  },
  {
   "cell_type": "code",
   "execution_count": 6,
   "id": "0f56a9cb",
   "metadata": {},
   "outputs": [
    {
     "data": {
      "text/html": [
       "<div>\n",
       "<style scoped>\n",
       "    .dataframe tbody tr th:only-of-type {\n",
       "        vertical-align: middle;\n",
       "    }\n",
       "\n",
       "    .dataframe tbody tr th {\n",
       "        vertical-align: top;\n",
       "    }\n",
       "\n",
       "    .dataframe thead th {\n",
       "        text-align: right;\n",
       "    }\n",
       "</style>\n",
       "<table border=\"1\" class=\"dataframe\">\n",
       "  <thead>\n",
       "    <tr style=\"text-align: right;\">\n",
       "      <th></th>\n",
       "      <th>chr</th>\n",
       "      <th>start</th>\n",
       "      <th>end</th>\n",
       "      <th>reads</th>\n",
       "      <th>copy</th>\n",
       "      <th>state</th>\n",
       "      <th>cell_id</th>\n",
       "    </tr>\n",
       "  </thead>\n",
       "  <tbody>\n",
       "    <tr>\n",
       "      <th>0</th>\n",
       "      <td>1</td>\n",
       "      <td>1</td>\n",
       "      <td>500000</td>\n",
       "      <td>22</td>\n",
       "      <td>NaN</td>\n",
       "      <td>2</td>\n",
       "      <td>130115A-R13-C12</td>\n",
       "    </tr>\n",
       "    <tr>\n",
       "      <th>1</th>\n",
       "      <td>1</td>\n",
       "      <td>500001</td>\n",
       "      <td>1000000</td>\n",
       "      <td>128</td>\n",
       "      <td>NaN</td>\n",
       "      <td>2</td>\n",
       "      <td>130115A-R13-C12</td>\n",
       "    </tr>\n",
       "    <tr>\n",
       "      <th>2</th>\n",
       "      <td>1</td>\n",
       "      <td>1000001</td>\n",
       "      <td>1500000</td>\n",
       "      <td>192</td>\n",
       "      <td>1.898373</td>\n",
       "      <td>2</td>\n",
       "      <td>130115A-R13-C12</td>\n",
       "    </tr>\n",
       "    <tr>\n",
       "      <th>3</th>\n",
       "      <td>1</td>\n",
       "      <td>1500001</td>\n",
       "      <td>2000000</td>\n",
       "      <td>167</td>\n",
       "      <td>1.799708</td>\n",
       "      <td>2</td>\n",
       "      <td>130115A-R13-C12</td>\n",
       "    </tr>\n",
       "    <tr>\n",
       "      <th>4</th>\n",
       "      <td>1</td>\n",
       "      <td>2000001</td>\n",
       "      <td>2500000</td>\n",
       "      <td>149</td>\n",
       "      <td>1.480992</td>\n",
       "      <td>2</td>\n",
       "      <td>130115A-R13-C12</td>\n",
       "    </tr>\n",
       "    <tr>\n",
       "      <th>...</th>\n",
       "      <td>...</td>\n",
       "      <td>...</td>\n",
       "      <td>...</td>\n",
       "      <td>...</td>\n",
       "      <td>...</td>\n",
       "      <td>...</td>\n",
       "      <td>...</td>\n",
       "    </tr>\n",
       "    <tr>\n",
       "      <th>1930061</th>\n",
       "      <td>Y</td>\n",
       "      <td>57000001</td>\n",
       "      <td>57500000</td>\n",
       "      <td>0</td>\n",
       "      <td>NaN</td>\n",
       "      <td>0</td>\n",
       "      <td>130115A-R58-C19</td>\n",
       "    </tr>\n",
       "    <tr>\n",
       "      <th>1930062</th>\n",
       "      <td>Y</td>\n",
       "      <td>57500001</td>\n",
       "      <td>58000000</td>\n",
       "      <td>0</td>\n",
       "      <td>NaN</td>\n",
       "      <td>0</td>\n",
       "      <td>130115A-R58-C19</td>\n",
       "    </tr>\n",
       "    <tr>\n",
       "      <th>1930063</th>\n",
       "      <td>Y</td>\n",
       "      <td>58000001</td>\n",
       "      <td>58500000</td>\n",
       "      <td>0</td>\n",
       "      <td>NaN</td>\n",
       "      <td>0</td>\n",
       "      <td>130115A-R58-C19</td>\n",
       "    </tr>\n",
       "    <tr>\n",
       "      <th>1930064</th>\n",
       "      <td>Y</td>\n",
       "      <td>58500001</td>\n",
       "      <td>59000000</td>\n",
       "      <td>54</td>\n",
       "      <td>NaN</td>\n",
       "      <td>0</td>\n",
       "      <td>130115A-R58-C19</td>\n",
       "    </tr>\n",
       "    <tr>\n",
       "      <th>1930065</th>\n",
       "      <td>Y</td>\n",
       "      <td>59000001</td>\n",
       "      <td>59500000</td>\n",
       "      <td>30</td>\n",
       "      <td>NaN</td>\n",
       "      <td>0</td>\n",
       "      <td>130115A-R58-C19</td>\n",
       "    </tr>\n",
       "  </tbody>\n",
       "</table>\n",
       "<p>1930066 rows × 7 columns</p>\n",
       "</div>"
      ],
      "text/plain": [
       "        chr     start       end  reads      copy  state          cell_id\n",
       "0         1         1    500000     22       NaN      2  130115A-R13-C12\n",
       "1         1    500001   1000000    128       NaN      2  130115A-R13-C12\n",
       "2         1   1000001   1500000    192  1.898373      2  130115A-R13-C12\n",
       "3         1   1500001   2000000    167  1.799708      2  130115A-R13-C12\n",
       "4         1   2000001   2500000    149  1.480992      2  130115A-R13-C12\n",
       "...      ..       ...       ...    ...       ...    ...              ...\n",
       "1930061   Y  57000001  57500000      0       NaN      0  130115A-R58-C19\n",
       "1930062   Y  57500001  58000000      0       NaN      0  130115A-R58-C19\n",
       "1930063   Y  58000001  58500000      0       NaN      0  130115A-R58-C19\n",
       "1930064   Y  58500001  59000000     54       NaN      0  130115A-R58-C19\n",
       "1930065   Y  59000001  59500000     30       NaN      0  130115A-R58-C19\n",
       "\n",
       "[1930066 rows x 7 columns]"
      ]
     },
     "execution_count": 6,
     "metadata": {},
     "output_type": "execute_result"
    }
   ],
   "source": [
    "cn_df = pd.read_csv(f\"{DATADIR}/{sample_name}.totalcn_per_cell.tsv\", sep=\"\\t\")\n",
    "cn_df"
   ]
  },
  {
   "cell_type": "code",
   "execution_count": 7,
   "id": "f3cd6f93",
   "metadata": {},
   "outputs": [
    {
     "data": {
      "text/html": [
       "<div>\n",
       "<style scoped>\n",
       "    .dataframe tbody tr th:only-of-type {\n",
       "        vertical-align: middle;\n",
       "    }\n",
       "\n",
       "    .dataframe tbody tr th {\n",
       "        vertical-align: top;\n",
       "    }\n",
       "\n",
       "    .dataframe thead th {\n",
       "        text-align: right;\n",
       "    }\n",
       "</style>\n",
       "<table border=\"1\" class=\"dataframe\">\n",
       "  <thead>\n",
       "    <tr style=\"text-align: right;\">\n",
       "      <th></th>\n",
       "      <th>case</th>\n",
       "      <th>marker</th>\n",
       "      <th>chr</th>\n",
       "      <th>start</th>\n",
       "      <th>end</th>\n",
       "      <th>assembly</th>\n",
       "      <th>len</th>\n",
       "    </tr>\n",
       "  </thead>\n",
       "  <tbody>\n",
       "    <tr>\n",
       "      <th>6</th>\n",
       "      <td>PM_0510</td>\n",
       "      <td>TERT</td>\n",
       "      <td>5</td>\n",
       "      <td>1247245</td>\n",
       "      <td>23090100</td>\n",
       "      <td>GRCh37</td>\n",
       "      <td>21842855</td>\n",
       "    </tr>\n",
       "    <tr>\n",
       "      <th>7</th>\n",
       "      <td>PM_0510</td>\n",
       "      <td>EGFR</td>\n",
       "      <td>7</td>\n",
       "      <td>52134895</td>\n",
       "      <td>55952400</td>\n",
       "      <td>GRCh37</td>\n",
       "      <td>3817505</td>\n",
       "    </tr>\n",
       "    <tr>\n",
       "      <th>8</th>\n",
       "      <td>PM_0510</td>\n",
       "      <td>CDK4</td>\n",
       "      <td>12</td>\n",
       "      <td>58115746</td>\n",
       "      <td>58407545</td>\n",
       "      <td>GRCh37</td>\n",
       "      <td>291799</td>\n",
       "    </tr>\n",
       "  </tbody>\n",
       "</table>\n",
       "</div>"
      ],
      "text/plain": [
       "      case marker  chr     start       end assembly       len\n",
       "6  PM_0510   TERT    5   1247245  23090100   GRCh37  21842855\n",
       "7  PM_0510   EGFR    7  52134895  55952400   GRCh37   3817505\n",
       "8  PM_0510   CDK4   12  58115746  58407545   GRCh37    291799"
      ]
     },
     "execution_count": 7,
     "metadata": {},
     "output_type": "execute_result"
    }
   ],
   "source": [
    "ecdna_df = pd.read_csv(f\"{DATADIR}/ecdna.regions_042325.tsv\", sep=\"\\t\")\n",
    "ecdna_df = ecdna_df[ecdna_df[\"case\"] == \"PM_0510\"]\n",
    "\n",
    "ecdna_df"
   ]
  },
  {
   "cell_type": "code",
   "execution_count": 8,
   "id": "d9c90c74",
   "metadata": {},
   "outputs": [
    {
     "name": "stdout",
     "output_type": "stream",
     "text": [
      "     chr    start      end  reads      copy  state          cell_id  \\\n",
      "4881   7        1   500000    240       NaN      3  130115A-R13-C12   \n",
      "4882   7   500001  1000000    253  2.679631      3  130115A-R13-C12   \n",
      "4883   7  1000001  1500000    283  2.918062      3  130115A-R13-C12   \n",
      "4884   7  1500001  2000000    240  2.504908      3  130115A-R13-C12   \n",
      "4885   7  2000001  2500000    193  2.100834      3  130115A-R13-C12   \n",
      "\n",
      "                 bin_id  \n",
      "4881         7_1_500000  \n",
      "4882   7_500001_1000000  \n",
      "4883  7_1000001_1500000  \n",
      "4884  7_1500001_2000000  \n",
      "4885  7_2000001_2500000  \n",
      "Min copy = 0.0605029619214976, Max copy = 477.821624878483\n"
     ]
    }
   ],
   "source": [
    "cn_df[\"bin_id\"] = cn_df[\"chr\"].astype(str) + \"_\" + cn_df[\"start\"].astype(str) + \"_\" + cn_df[\"end\"].astype(str)\n",
    "cell_ids = cn_df[\"cell_id\"].unique()\n",
    "bin_ids = cn_df[\"bin_id\"].unique()\n",
    "\n",
    "# Looking at chr7 EGFR ecDNA region\n",
    "chr7_df = cn_df[cn_df[\"chr\"] == \"7\"]\n",
    "print(chr7_df.head())\n",
    "print(f\"Min copy = {chr7_df['copy'].min()}, Max copy = {chr7_df['copy'].max()}\")\n"
   ]
  },
  {
   "cell_type": "code",
   "execution_count": 9,
   "id": "ba11a0e1",
   "metadata": {},
   "outputs": [
    {
     "data": {
      "text/plain": [
       "count    99209.000000\n",
       "mean         2.924523\n",
       "std          0.532725\n",
       "min          0.000000\n",
       "25%          3.000000\n",
       "50%          3.000000\n",
       "75%          3.000000\n",
       "max         11.000000\n",
       "Name: state, dtype: float64"
      ]
     },
     "execution_count": 9,
     "metadata": {},
     "output_type": "execute_result"
    }
   ],
   "source": [
    "chr7_df[\"state\"].describe()"
   ]
  },
  {
   "cell_type": "code",
   "execution_count": 10,
   "id": "d477a476",
   "metadata": {},
   "outputs": [
    {
     "name": "stdout",
     "output_type": "stream",
     "text": [
      "     chr     start       end  reads       copy  state          cell_id  \\\n",
      "4984   7  51500001  52000000    144   1.996437      2  130115A-R13-C12   \n",
      "4985   7  52000001  52500000   1640  23.967567      2  130115A-R13-C12   \n",
      "4986   7  52500001  53000000   1872  28.868713      2  130115A-R13-C12   \n",
      "4987   7  53000001  53500000   1830  27.835560      2  130115A-R13-C12   \n",
      "4988   7  53500001  54000000   1884  29.565440      2  130115A-R13-C12   \n",
      "\n",
      "                   bin_id  \n",
      "4984  7_51500001_52000000  \n",
      "4985  7_52000001_52500000  \n",
      "4986  7_52500001_53000000  \n",
      "4987  7_53000001_53500000  \n",
      "4988  7_53500001_54000000  \n",
      "(3110, 8)\n",
      "Min copy in ecdna region = 0.395115297277201, Max copy in ecdna region = 477.821624878483\n"
     ]
    },
    {
     "name": "stderr",
     "output_type": "stream",
     "text": [
      "/tmp/ipykernel_1875059/2190217077.py:5: FutureWarning: Calling float on a single element Series is deprecated and will raise a TypeError in the future. Use float(ser.iloc[0]) instead\n",
      "  bin_start = (math.floor(region_start / 500000) * 500000) - (500000 * 1)\n",
      "/tmp/ipykernel_1875059/2190217077.py:6: FutureWarning: Calling float on a single element Series is deprecated and will raise a TypeError in the future. Use float(ser.iloc[0]) instead\n",
      "  bin_end = (math.ceil(region_end / 500000) * 500000) + (500000 * 1)\n"
     ]
    }
   ],
   "source": [
    "chr7_ecdna_start = ecdna_df[ecdna_df[\"chr\"] == 7][\"start\"]\n",
    "chr7_ecdna_end = ecdna_df[ecdna_df[\"chr\"] == 7][\"end\"]\n",
    "\n",
    "chr7_ecdna_df = get_chr_bin_idxs(7, chr7_df, chr7_ecdna_start, chr7_ecdna_end)\n",
    "print(chr7_ecdna_df.head())\n",
    "print(chr7_ecdna_df.shape)\n",
    "\n",
    "print(f\"Min copy in ecdna region = {chr7_ecdna_df['copy'].min()}, Max copy in ecdna region = {chr7_ecdna_df['copy'].max()}\")"
   ]
  },
  {
   "cell_type": "code",
   "execution_count": 11,
   "id": "f81597e5",
   "metadata": {},
   "outputs": [
    {
     "data": {
      "text/plain": [
       "<Figure size 1200x800 with 0 Axes>"
      ]
     },
     "metadata": {},
     "output_type": "display_data"
    },
    {
     "data": {
      "image/png": "[encoded data removed]",
      "text/plain": [
       "<Figure size 1000x1000 with 4 Axes>"
      ]
     },
     "metadata": {},
     "output_type": "display_data"
    }
   ],
   "source": [
    "# Pivot to create heatmap data\n",
    "chr7_bin_ids = chr7_ecdna_df[\"bin_id\"].unique()\n",
    "pivot_df = chr7_ecdna_df.pivot_table(index=\"cell_id\", columns=\"bin_id\", values=\"copy\", fill_value=0)\n",
    "pivot_df = pivot_df.reindex(index=cell_ids, columns=chr7_bin_ids, fill_value=0)\n",
    "\n",
    "metric = \"correlation\"\n",
    "method = \"average\"\n",
    "\n",
    "xtick_labels = [x.split(\"_\")[1] for x in chr7_bin_ids]\n",
    "\n",
    "# Create heatmap\n",
    "plt.figure(figsize=(12, 8))\n",
    "ecdna_heatmap = sns.clustermap(pivot_df.values,\n",
    "                               cmap = \"viridis\",\n",
    "                               cbar_pos = (1.03, 0.6, 0.03, 0.2),\n",
    "                               cbar_kws = {\"label\": \"Copy Number\"},\n",
    "                               row_cluster = True,\n",
    "                               col_cluster = False,\n",
    "                               dendrogram_ratio = (0.05, 0.01),\n",
    "                               xticklabels = False,\n",
    "                               yticklabels = False,\n",
    "                               vmax = 100,\n",
    "                               metric = metric,\n",
    "                               method = method\n",
    "                               )\n",
    "\n",
    "ecdna_heatmap.ax_heatmap.set_xticks([x + 0.5 for x in range(len(xtick_labels))])\n",
    "ecdna_heatmap.ax_heatmap.set_xticklabels(xtick_labels, fontsize=8)\n",
    "\n",
    "ecdna_heatmap.ax_heatmap.set_title(f\"{sample_name} chr7 EGFR ecDNA\", fontsize=16)\n",
    "\n",
    "plt.savefig(f\"{DATADIR}/{sample_name}_chr7_ecdna_heatmap_{metric}_{method}.png\", dpi=300, bbox_inches='tight')\n",
    "plt.show()"
   ]
  },
  {
   "cell_type": "code",
   "execution_count": 12,
   "id": "bf465641",
   "metadata": {},
   "outputs": [
    {
     "data": {
      "application/vnd.plotly.v1+json": {
       "config": {
        "plotlyServerURL": "https://plot.ly"
       },
       "data": [
        {
         "coloraxis": "coloraxis",
         "hovertemplate": "x: %{x}<br>y: %{y}<br>Copy Number: %{z}<extra></extra>",
         "name": "0",
         "type": "heatmap",
         "xaxis": "x",
         "yaxis": "y",
         "z": {
          "bdata": "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",
          "dtype": "f8",
          "shape": "311, 10"
         }
        }
       ],
       "layout": {
        "coloraxis": {
         "cmax": 100,
         "cmin": 0.395115297277201,
         "colorbar": {
          "title": {
           "text": "Copy Number"
          }
         },
         "colorscale": [
          [
           0,
           "#440154"
          ],
          [
           0.1111111111111111,
           "#482878"
          ],
          [
           0.2222222222222222,
           "#3e4989"
          ],
          [
           0.3333333333333333,
           "#31688e"
          ],
          [
           0.4444444444444444,
           "#26828e"
          ],
          [
           0.5555555555555556,
           "#1f9e89"
          ],
          [
           0.6666666666666666,
           "#35b779"
          ],
          [
           0.7777777777777778,
           "#6ece58"
          ],
          [
           0.8888888888888888,
           "#b5de2b"
          ],
          [
           1,
           "#fde725"
          ]
         ]
        },
        "height": 800,
        "margin": {
         "t": 60
        },
        "template": {
         "data": {
          "bar": [
           {
            "error_x": {
             "color": "#2a3f5f"
            },
            "error_y": {
             "color": "#2a3f5f"
            },
            "marker": {
             "line": {
              "color": "#E5ECF6",
              "width": 0.5
             },
             "pattern": {
              "fillmode": "overlay",
              "size": 10,
              "solidity": 0.2
             }
            },
            "type": "bar"
           }
          ],
          "barpolar": [
           {
            "marker": {
             "line": {
              "color": "#E5ECF6",
              "width": 0.5
             },
             "pattern": {
              "fillmode": "overlay",
              "size": 10,
              "solidity": 0.2
             }
            },
            "type": "barpolar"
           }
          ],
          "carpet": [
           {
            "aaxis": {
             "endlinecolor": "#2a3f5f",
             "gridcolor": "white",
             "linecolor": "white",
             "minorgridcolor": "white",
             "startlinecolor": "#2a3f5f"
            },
            "baxis": {
             "endlinecolor": "#2a3f5f",
             "gridcolor": "white",
             "linecolor": "white",
             "minorgridcolor": "white",
             "startlinecolor": "#2a3f5f"
            },
            "type": "carpet"
           }
          ],
          "choropleth": [
           {
            "colorbar": {
             "outlinewidth": 0,
             "ticks": ""
            },
            "type": "choropleth"
           }
          ],
          "contour": [
           {
            "colorbar": {
             "outlinewidth": 0,
             "ticks": ""
            },
            "colorscale": [
             [
              0,
              "#0d0887"
             ],
             [
              0.1111111111111111,
              "#46039f"
             ],
             [
              0.2222222222222222,
              "#7201a8"
             ],
             [
              0.3333333333333333,
              "#9c179e"
             ],
             [
              0.4444444444444444,
              "#bd3786"
             ],
             [
              0.5555555555555556,
              "#d8576b"
             ],
             [
              0.6666666666666666,
              "#ed7953"
             ],
             [
              0.7777777777777778,
              "#fb9f3a"
             ],
             [
              0.8888888888888888,
              "#fdca26"
             ],
             [
              1,
              "#f0f921"
             ]
            ],
            "type": "contour"
           }
          ],
          "contourcarpet": [
           {
            "colorbar": {
             "outlinewidth": 0,
             "ticks": ""
            },
            "type": "contourcarpet"
           }
          ],
          "heatmap": [
           {
            "colorbar": {
             "outlinewidth": 0,
             "ticks": ""
            },
            "colorscale": [
             [
              0,
              "#0d0887"
             ],
             [
              0.1111111111111111,
              "#46039f"
             ],
             [
              0.2222222222222222,
              "#7201a8"
             ],
             [
              0.3333333333333333,
              "#9c179e"
             ],
             [
              0.4444444444444444,
              "#bd3786"
             ],
             [
              0.5555555555555556,
              "#d8576b"
             ],
             [
              0.6666666666666666,
              "#ed7953"
             ],
             [
              0.7777777777777778,
              "#fb9f3a"
             ],
             [
              0.8888888888888888,
              "#fdca26"
             ],
             [
              1,
              "#f0f921"
             ]
            ],
            "type": "heatmap"
           }
          ],
          "histogram": [
           {
            "marker": {
             "pattern": {
              "fillmode": "overlay",
              "size": 10,
              "solidity": 0.2
             }
            },
            "type": "histogram"
           }
          ],
          "histogram2d": [
           {
            "colorbar": {
             "outlinewidth": 0,
             "ticks": ""
            },
            "colorscale": [
             [
              0,
              "#0d0887"
             ],
             [
              0.1111111111111111,
              "#46039f"
             ],
             [
              0.2222222222222222,
              "#7201a8"
             ],
             [
              0.3333333333333333,
              "#9c179e"
             ],
             [
              0.4444444444444444,
              "#bd3786"
             ],
             [
              0.5555555555555556,
              "#d8576b"
             ],
             [
              0.6666666666666666,
              "#ed7953"
             ],
             [
              0.7777777777777778,
              "#fb9f3a"
             ],
             [
              0.8888888888888888,
              "#fdca26"
             ],
             [
              1,
              "#f0f921"
             ]
            ],
            "type": "histogram2d"
           }
          ],
          "histogram2dcontour": [
           {
            "colorbar": {
             "outlinewidth": 0,
             "ticks": ""
            },
            "colorscale": [
             [
              0,
              "#0d0887"
             ],
             [
              0.1111111111111111,
              "#46039f"
             ],
             [
              0.2222222222222222,
              "#7201a8"
             ],
             [
              0.3333333333333333,
              "#9c179e"
             ],
             [
              0.4444444444444444,
              "#bd3786"
             ],
             [
              0.5555555555555556,
              "#d8576b"
             ],
             [
              0.6666666666666666,
              "#ed7953"
             ],
             [
              0.7777777777777778,
              "#fb9f3a"
             ],
             [
              0.8888888888888888,
              "#fdca26"
             ],
             [
              1,
              "#f0f921"
             ]
            ],
            "type": "histogram2dcontour"
           }
          ],
          "mesh3d": [
           {
            "colorbar": {
             "outlinewidth": 0,
             "ticks": ""
            },
            "type": "mesh3d"
           }
          ],
          "parcoords": [
           {
            "line": {
             "colorbar": {
              "outlinewidth": 0,
              "ticks": ""
             }
            },
            "type": "parcoords"
           }
          ],
          "pie": [
           {
            "automargin": true,
            "type": "pie"
           }
          ],
          "scatter": [
           {
            "fillpattern": {
             "fillmode": "overlay",
             "size": 10,
             "solidity": 0.2
            },
            "type": "scatter"
           }
          ],
          "scatter3d": [
           {
            "line": {
             "colorbar": {
              "outlinewidth": 0,
              "ticks": ""
             }
            },
            "marker": {
             "colorbar": {
              "outlinewidth": 0,
              "ticks": ""
             }
            },
            "type": "scatter3d"
           }
          ],
          "scattercarpet": [
           {
            "marker": {
             "colorbar": {
              "outlinewidth": 0,
              "ticks": ""
             }
            },
            "type": "scattercarpet"
           }
          ],
          "scattergeo": [
           {
            "marker": {
             "colorbar": {
              "outlinewidth": 0,
              "ticks": ""
             }
            },
            "type": "scattergeo"
           }
          ],
          "scattergl": [
           {
            "marker": {
             "colorbar": {
              "outlinewidth": 0,
              "ticks": ""
             }
            },
            "type": "scattergl"
           }
          ],
          "scattermap": [
           {
            "marker": {
             "colorbar": {
              "outlinewidth": 0,
              "ticks": ""
             }
            },
            "type": "scattermap"
           }
          ],
          "scattermapbox": [
           {
            "marker": {
             "colorbar": {
              "outlinewidth": 0,
              "ticks": ""
             }
            },
            "type": "scattermapbox"
           }
          ],
          "scatterpolar": [
           {
            "marker": {
             "colorbar": {
              "outlinewidth": 0,
              "ticks": ""
             }
            },
            "type": "scatterpolar"
           }
          ],
          "scatterpolargl": [
           {
            "marker": {
             "colorbar": {
              "outlinewidth": 0,
              "ticks": ""
             }
            },
            "type": "scatterpolargl"
           }
          ],
          "scatterternary": [
           {
            "marker": {
             "colorbar": {
              "outlinewidth": 0,
              "ticks": ""
             }
            },
            "type": "scatterternary"
           }
          ],
          "surface": [
           {
            "colorbar": {
             "outlinewidth": 0,
             "ticks": ""
            },
            "colorscale": [
             [
              0,
              "#0d0887"
             ],
             [
              0.1111111111111111,
              "#46039f"
             ],
             [
              0.2222222222222222,
              "#7201a8"
             ],
             [
              0.3333333333333333,
              "#9c179e"
             ],
             [
              0.4444444444444444,
              "#bd3786"
             ],
             [
              0.5555555555555556,
              "#d8576b"
             ],
             [
              0.6666666666666666,
              "#ed7953"
             ],
             [
              0.7777777777777778,
              "#fb9f3a"
             ],
             [
              0.8888888888888888,
              "#fdca26"
             ],
             [
              1,
              "#f0f921"
             ]
            ],
            "type": "surface"
           }
          ],
          "table": [
           {
            "cells": {
             "fill": {
              "color": "#EBF0F8"
             },
             "line": {
              "color": "white"
             }
            },
            "header": {
             "fill": {
              "color": "#C8D4E3"
             },
             "line": {
              "color": "white"
             }
            },
            "type": "table"
           }
          ]
         },
         "layout": {
          "annotationdefaults": {
           "arrowcolor": "#2a3f5f",
           "arrowhead": 0,
           "arrowwidth": 1
          },
          "autotypenumbers": "strict",
          "coloraxis": {
           "colorbar": {
            "outlinewidth": 0,
            "ticks": ""
           }
          },
          "colorscale": {
           "diverging": [
            [
             0,
             "#8e0152"
            ],
            [
             0.1,
             "#c51b7d"
            ],
            [
             0.2,
             "#de77ae"
            ],
            [
             0.3,
             "#f1b6da"
            ],
            [
             0.4,
             "#fde0ef"
            ],
            [
             0.5,
             "#f7f7f7"
            ],
            [
             0.6,
             "#e6f5d0"
            ],
            [
             0.7,
             "#b8e186"
            ],
            [
             0.8,
             "#7fbc41"
            ],
            [
             0.9,
             "#4d9221"
            ],
            [
             1,
             "#276419"
            ]
           ],
           "sequential": [
            [
             0,
             "#0d0887"
            ],
            [
             0.1111111111111111,
             "#46039f"
            ],
            [
             0.2222222222222222,
             "#7201a8"
            ],
            [
             0.3333333333333333,
             "#9c179e"
            ],
            [
             0.4444444444444444,
             "#bd3786"
            ],
            [
             0.5555555555555556,
             "#d8576b"
            ],
            [
             0.6666666666666666,
             "#ed7953"
            ],
            [
             0.7777777777777778,
             "#fb9f3a"
            ],
            [
             0.8888888888888888,
             "#fdca26"
            ],
            [
             1,
             "#f0f921"
            ]
           ],
           "sequentialminus": [
            [
             0,
             "#0d0887"
            ],
            [
             0.1111111111111111,
             "#46039f"
            ],
            [
             0.2222222222222222,
             "#7201a8"
            ],
            [
             0.3333333333333333,
             "#9c179e"
            ],
            [
             0.4444444444444444,
             "#bd3786"
            ],
            [
             0.5555555555555556,
             "#d8576b"
            ],
            [
             0.6666666666666666,
             "#ed7953"
            ],
            [
             0.7777777777777778,
             "#fb9f3a"
            ],
            [
             0.8888888888888888,
             "#fdca26"
            ],
            [
             1,
             "#f0f921"
            ]
           ]
          },
          "colorway": [
           "#636efa",
           "#EF553B",
           "#00cc96",
           "#ab63fa",
           "#FFA15A",
           "#19d3f3",
           "#FF6692",
           "#B6E880",
           "#FF97FF",
           "#FECB52"
          ],
          "font": {
           "color": "#2a3f5f"
          },
          "geo": {
           "bgcolor": "white",
           "lakecolor": "white",
           "landcolor": "#E5ECF6",
           "showlakes": true,
           "showland": true,
           "subunitcolor": "white"
          },
          "hoverlabel": {
           "align": "left"
          },
          "hovermode": "closest",
          "mapbox": {
           "style": "light"
          },
          "paper_bgcolor": "white",
          "plot_bgcolor": "#E5ECF6",
          "polar": {
           "angularaxis": {
            "gridcolor": "white",
            "linecolor": "white",
            "ticks": ""
           },
           "bgcolor": "#E5ECF6",
           "radialaxis": {
            "gridcolor": "white",
            "linecolor": "white",
            "ticks": ""
           }
          },
          "scene": {
           "xaxis": {
            "backgroundcolor": "#E5ECF6",
            "gridcolor": "white",
            "gridwidth": 2,
            "linecolor": "white",
            "showbackground": true,
            "ticks": "",
            "zerolinecolor": "white"
           },
           "yaxis": {
            "backgroundcolor": "#E5ECF6",
            "gridcolor": "white",
            "gridwidth": 2,
            "linecolor": "white",
            "showbackground": true,
            "ticks": "",
            "zerolinecolor": "white"
           },
           "zaxis": {
            "backgroundcolor": "#E5ECF6",
            "gridcolor": "white",
            "gridwidth": 2,
            "linecolor": "white",
            "showbackground": true,
            "ticks": "",
            "zerolinecolor": "white"
           }
          },
          "shapedefaults": {
           "line": {
            "color": "#2a3f5f"
           }
          },
          "ternary": {
           "aaxis": {
            "gridcolor": "white",
            "linecolor": "white",
            "ticks": ""
           },
           "baxis": {
            "gridcolor": "white",
            "linecolor": "white",
            "ticks": ""
           },
           "bgcolor": "#E5ECF6",
           "caxis": {
            "gridcolor": "white",
            "linecolor": "white",
            "ticks": ""
           }
          },
          "title": {
           "x": 0.05
          },
          "xaxis": {
           "automargin": true,
           "gridcolor": "white",
           "linecolor": "white",
           "ticks": "",
           "title": {
            "standoff": 15
           },
           "zerolinecolor": "white",
           "zerolinewidth": 2
          },
          "yaxis": {
           "automargin": true,
           "gridcolor": "white",
           "linecolor": "white",
           "ticks": "",
           "title": {
            "standoff": 15
           },
           "zerolinecolor": "white",
           "zerolinewidth": 2
          }
         }
        },
        "width": 1200,
        "xaxis": {
         "anchor": "y",
         "domain": [
          0,
          1
         ]
        },
        "yaxis": {
         "anchor": "x",
         "autorange": "reversed",
         "domain": [
          0,
          1
         ]
        }
       }
      }
     },
     "metadata": {},
     "output_type": "display_data"
    }
   ],
   "source": [
    "# Separate into major ecDNA groups\n",
    "\n",
    "from scipy.cluster.hierarchy import linkage, leaves_list\n",
    "import plotly.express as px\n",
    "\n",
    "Z = linkage(pivot_df.values, method = method, metric = metric)\n",
    "row_order = leaves_list(Z)\n",
    "\n",
    "ordered_data = pivot_df.values[row_order, :]\n",
    "fig = px.imshow(ordered_data,\n",
    "                width = 1200, height=800,\n",
    "                color_continuous_scale='viridis',\n",
    "                labels = {\"color\": \"Copy Number\"},\n",
    "                y = None,\n",
    "                aspect = 'auto',\n",
    "                zmax = 100)\n",
    "fig.show()"
   ]
  },
  {
   "cell_type": "code",
   "execution_count": 13,
   "id": "5a1b787c",
   "metadata": {},
   "outputs": [
    {
     "data": {
      "text/html": [
       "<div>\n",
       "<style scoped>\n",
       "    .dataframe tbody tr th:only-of-type {\n",
       "        vertical-align: middle;\n",
       "    }\n",
       "\n",
       "    .dataframe tbody tr th {\n",
       "        vertical-align: top;\n",
       "    }\n",
       "\n",
       "    .dataframe thead th {\n",
       "        text-align: right;\n",
       "    }\n",
       "</style>\n",
       "<table border=\"1\" class=\"dataframe\">\n",
       "  <thead>\n",
       "    <tr style=\"text-align: right;\">\n",
       "      <th>bin_id</th>\n",
       "      <th>7_51500001_52000000</th>\n",
       "      <th>7_52000001_52500000</th>\n",
       "      <th>7_52500001_53000000</th>\n",
       "      <th>7_53000001_53500000</th>\n",
       "      <th>7_53500001_54000000</th>\n",
       "      <th>7_54000001_54500000</th>\n",
       "      <th>7_54500001_55000000</th>\n",
       "      <th>7_55000001_55500000</th>\n",
       "      <th>7_55500001_56000000</th>\n",
       "      <th>7_56000001_56500000</th>\n",
       "    </tr>\n",
       "    <tr>\n",
       "      <th>cell_id</th>\n",
       "      <th></th>\n",
       "      <th></th>\n",
       "      <th></th>\n",
       "      <th></th>\n",
       "      <th></th>\n",
       "      <th></th>\n",
       "      <th></th>\n",
       "      <th></th>\n",
       "      <th></th>\n",
       "      <th></th>\n",
       "    </tr>\n",
       "  </thead>\n",
       "  <tbody>\n",
       "    <tr>\n",
       "      <th>130115A-R32-C23</th>\n",
       "      <td>2.683800</td>\n",
       "      <td>3.900512</td>\n",
       "      <td>5.734585</td>\n",
       "      <td>6.098257</td>\n",
       "      <td>5.237736</td>\n",
       "      <td>12.403458</td>\n",
       "      <td>23.669623</td>\n",
       "      <td>23.540290</td>\n",
       "      <td>13.137032</td>\n",
       "      <td>2.508887</td>\n",
       "    </tr>\n",
       "    <tr>\n",
       "      <th>130115A-R28-C21</th>\n",
       "      <td>1.253462</td>\n",
       "      <td>3.039884</td>\n",
       "      <td>4.671634</td>\n",
       "      <td>6.003376</td>\n",
       "      <td>3.767508</td>\n",
       "      <td>21.142569</td>\n",
       "      <td>33.213839</td>\n",
       "      <td>32.108468</td>\n",
       "      <td>33.212995</td>\n",
       "      <td>0.983503</td>\n",
       "    </tr>\n",
       "    <tr>\n",
       "      <th>130115A-R19-C48</th>\n",
       "      <td>2.104401</td>\n",
       "      <td>2.773249</td>\n",
       "      <td>3.303869</td>\n",
       "      <td>2.858845</td>\n",
       "      <td>3.634950</td>\n",
       "      <td>13.166073</td>\n",
       "      <td>26.660220</td>\n",
       "      <td>25.734791</td>\n",
       "      <td>19.852911</td>\n",
       "      <td>2.075013</td>\n",
       "    </tr>\n",
       "    <tr>\n",
       "      <th>130115A-R52-C14</th>\n",
       "      <td>2.497927</td>\n",
       "      <td>3.114432</td>\n",
       "      <td>3.743581</td>\n",
       "      <td>3.149622</td>\n",
       "      <td>2.570771</td>\n",
       "      <td>18.956849</td>\n",
       "      <td>35.101543</td>\n",
       "      <td>32.255233</td>\n",
       "      <td>26.939669</td>\n",
       "      <td>2.664586</td>\n",
       "    </tr>\n",
       "    <tr>\n",
       "      <th>130115A-R25-C12</th>\n",
       "      <td>1.748412</td>\n",
       "      <td>4.397009</td>\n",
       "      <td>4.751513</td>\n",
       "      <td>4.759834</td>\n",
       "      <td>4.720048</td>\n",
       "      <td>19.061015</td>\n",
       "      <td>44.502500</td>\n",
       "      <td>38.082083</td>\n",
       "      <td>31.299682</td>\n",
       "      <td>2.207090</td>\n",
       "    </tr>\n",
       "  </tbody>\n",
       "</table>\n",
       "</div>"
      ],
      "text/plain": [
       "bin_id           7_51500001_52000000  7_52000001_52500000  \\\n",
       "cell_id                                                     \n",
       "130115A-R32-C23             2.683800             3.900512   \n",
       "130115A-R28-C21             1.253462             3.039884   \n",
       "130115A-R19-C48             2.104401             2.773249   \n",
       "130115A-R52-C14             2.497927             3.114432   \n",
       "130115A-R25-C12             1.748412             4.397009   \n",
       "\n",
       "bin_id           7_52500001_53000000  7_53000001_53500000  \\\n",
       "cell_id                                                     \n",
       "130115A-R32-C23             5.734585             6.098257   \n",
       "130115A-R28-C21             4.671634             6.003376   \n",
       "130115A-R19-C48             3.303869             2.858845   \n",
       "130115A-R52-C14             3.743581             3.149622   \n",
       "130115A-R25-C12             4.751513             4.759834   \n",
       "\n",
       "bin_id           7_53500001_54000000  7_54000001_54500000  \\\n",
       "cell_id                                                     \n",
       "130115A-R32-C23             5.237736            12.403458   \n",
       "130115A-R28-C21             3.767508            21.142569   \n",
       "130115A-R19-C48             3.634950            13.166073   \n",
       "130115A-R52-C14             2.570771            18.956849   \n",
       "130115A-R25-C12             4.720048            19.061015   \n",
       "\n",
       "bin_id           7_54500001_55000000  7_55000001_55500000  \\\n",
       "cell_id                                                     \n",
       "130115A-R32-C23            23.669623            23.540290   \n",
       "130115A-R28-C21            33.213839            32.108468   \n",
       "130115A-R19-C48            26.660220            25.734791   \n",
       "130115A-R52-C14            35.101543            32.255233   \n",
       "130115A-R25-C12            44.502500            38.082083   \n",
       "\n",
       "bin_id           7_55500001_56000000  7_56000001_56500000  \n",
       "cell_id                                                    \n",
       "130115A-R32-C23            13.137032             2.508887  \n",
       "130115A-R28-C21            33.212995             0.983503  \n",
       "130115A-R19-C48            19.852911             2.075013  \n",
       "130115A-R52-C14            26.939669             2.664586  \n",
       "130115A-R25-C12            31.299682             2.207090  "
      ]
     },
     "execution_count": 13,
     "metadata": {},
     "output_type": "execute_result"
    }
   ],
   "source": [
    "# medium_y = 23\n",
    "# small_y = 24 ~ 38\n",
    "\n",
    "medium_egfr_df = pivot_df.iloc[row_order[:24], :]\n",
    "small_egfr_df = pivot_df.iloc[row_order[24:39], :]\n",
    "large_egfr_df = pivot_df.iloc[row_order[39:], :]\n",
    "\n",
    "medium_egfr_df.head()"
   ]
  },
  {
   "cell_type": "code",
   "execution_count": 14,
   "id": "43c8e607",
   "metadata": {},
   "outputs": [
    {
     "data": {
      "text/plain": [
       "<Figure size 1200x800 with 0 Axes>"
      ]
     },
     "metadata": {},
     "output_type": "display_data"
    },
    {
     "data": {
      "image/png": "[encoded data removed]",
      "text/plain": [
       "<Figure size 1000x1000 with 5 Axes>"
      ]
     },
     "metadata": {},
     "output_type": "display_data"
    }
   ],
   "source": [
    "xtick_labels = [x.split(\"_\")[1] for x in chr7_bin_ids]\n",
    "\n",
    "row_colors = pd.Series(index = pivot_df.index, dtype = \"object\")\n",
    "clustered_index = pivot_df.index[row_order]\n",
    "row_colors.loc[clustered_index[:len(medium_egfr_df)]] = \"tab:blue\"\n",
    "row_colors.loc[clustered_index[len(medium_egfr_df):len(medium_egfr_df) + len(small_egfr_df)]] = \"tab:orange\"\n",
    "row_colors.loc[clustered_index[len(medium_egfr_df) + len(small_egfr_df):]] = \"tab:green\"\n",
    "\n",
    "# Create heatmap\n",
    "plt.figure(figsize=(12, 8))\n",
    "ecdna_heatmap = sns.clustermap(pivot_df.values,\n",
    "                               cmap = \"viridis\",\n",
    "                               cbar_pos = (1.03, 0.6, 0.03, 0.2),\n",
    "                               cbar_kws = {\"label\": \"Copy Number\"},\n",
    "                               row_cluster = True,\n",
    "                               col_cluster = False,\n",
    "                               row_colors = row_colors.to_numpy(),\n",
    "                               dendrogram_ratio = (0.05, 0.01),\n",
    "                               xticklabels = False,\n",
    "                               yticklabels = False,\n",
    "                               vmax = 100,\n",
    "                               metric = metric,\n",
    "                               method = method\n",
    "                               )\n",
    "\n",
    "ecdna_heatmap.ax_heatmap.set_xticks([x + 0.5 for x in range(len(xtick_labels))])\n",
    "ecdna_heatmap.ax_heatmap.set_xticklabels(xtick_labels, fontsize=8)\n",
    "\n",
    "ecdna_heatmap.ax_heatmap.set_title(f\"{sample_name} chr7 EGFR ecDNA\", fontsize=16)\n",
    "\n",
    "plt.savefig(f\"{DATADIR}/{sample_name}_chr7_ecdna_heatmap_{metric}_{method}_splitcolor.png\", dpi=300, bbox_inches='tight')\n",
    "plt.show()"
   ]
  },
  {
   "cell_type": "code",
   "execution_count": 15,
   "id": "7fb679c2",
   "metadata": {},
   "outputs": [
    {
     "data": {
      "application/vnd.plotly.v1+json": {
       "config": {
        "plotlyServerURL": "https://plot.ly"
       },
       "data": [
        {
         "coloraxis": "coloraxis",
         "hovertemplate": "x: %{x}<br>y: %{y}<br>Read depth: %{z}<extra></extra>",
         "name": "0",
         "type": "heatmap",
         "xaxis": "x",
         "yaxis": "y",
         "z": {
          "bdata": "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",
          "dtype": "f8",
          "shape": "24, 10"
         }
        }
       ],
       "layout": {
        "coloraxis": {
         "cmax": 100,
         "cmin": 0.783466192573125,
         "colorbar": {
          "title": {
           "text": "Read depth"
          }
         },
         "colorscale": [
          [
           0,
           "#440154"
          ],
          [
           0.1111111111111111,
           "#482878"
          ],
          [
           0.2222222222222222,
           "#3e4989"
          ],
          [
           0.3333333333333333,
           "#31688e"
          ],
          [
           0.4444444444444444,
           "#26828e"
          ],
          [
           0.5555555555555556,
           "#1f9e89"
          ],
          [
           0.6666666666666666,
           "#35b779"
          ],
          [
           0.7777777777777778,
           "#6ece58"
          ],
          [
           0.8888888888888888,
           "#b5de2b"
          ],
          [
           1,
           "#fde725"
          ]
         ]
        },
        "height": 500,
        "margin": {
         "t": 60
        },
        "template": {
         "data": {
          "bar": [
           {
            "error_x": {
             "color": "#2a3f5f"
            },
            "error_y": {
             "color": "#2a3f5f"
            },
            "marker": {
             "line": {
              "color": "#E5ECF6",
              "width": 0.5
             },
             "pattern": {
              "fillmode": "overlay",
              "size": 10,
              "solidity": 0.2
             }
            },
            "type": "bar"
           }
          ],
          "barpolar": [
           {
            "marker": {
             "line": {
              "color": "#E5ECF6",
              "width": 0.5
             },
             "pattern": {
              "fillmode": "overlay",
              "size": 10,
              "solidity": 0.2
             }
            },
            "type": "barpolar"
           }
          ],
          "carpet": [
           {
            "aaxis": {
             "endlinecolor": "#2a3f5f",
             "gridcolor": "white",
             "linecolor": "white",
             "minorgridcolor": "white",
             "startlinecolor": "#2a3f5f"
            },
            "baxis": {
             "endlinecolor": "#2a3f5f",
             "gridcolor": "white",
             "linecolor": "white",
             "minorgridcolor": "white",
             "startlinecolor": "#2a3f5f"
            },
            "type": "carpet"
           }
          ],
          "choropleth": [
           {
            "colorbar": {
             "outlinewidth": 0,
             "ticks": ""
            },
            "type": "choropleth"
           }
          ],
          "contour": [
           {
            "colorbar": {
             "outlinewidth": 0,
             "ticks": ""
            },
            "colorscale": [
             [
              0,
              "#0d0887"
             ],
             [
              0.1111111111111111,
              "#46039f"
             ],
             [
              0.2222222222222222,
              "#7201a8"
             ],
             [
              0.3333333333333333,
              "#9c179e"
             ],
             [
              0.4444444444444444,
              "#bd3786"
             ],
             [
              0.5555555555555556,
              "#d8576b"
             ],
             [
              0.6666666666666666,
              "#ed7953"
             ],
             [
              0.7777777777777778,
              "#fb9f3a"
             ],
             [
              0.8888888888888888,
              "#fdca26"
             ],
             [
              1,
              "#f0f921"
             ]
            ],
            "type": "contour"
           }
          ],
          "contourcarpet": [
           {
            "colorbar": {
             "outlinewidth": 0,
             "ticks": ""
            },
            "type": "contourcarpet"
           }
          ],
          "heatmap": [
           {
            "colorbar": {
             "outlinewidth": 0,
             "ticks": ""
            },
            "colorscale": [
             [
              0,
              "#0d0887"
             ],
             [
              0.1111111111111111,
              "#46039f"
             ],
             [
              0.2222222222222222,
              "#7201a8"
             ],
             [
              0.3333333333333333,
              "#9c179e"
             ],
             [
              0.4444444444444444,
              "#bd3786"
             ],
             [
              0.5555555555555556,
              "#d8576b"
             ],
             [
              0.6666666666666666,
              "#ed7953"
             ],
             [
              0.7777777777777778,
              "#fb9f3a"
             ],
             [
              0.8888888888888888,
              "#fdca26"
             ],
             [
              1,
              "#f0f921"
             ]
            ],
            "type": "heatmap"
           }
          ],
          "histogram": [
           {
            "marker": {
             "pattern": {
              "fillmode": "overlay",
              "size": 10,
              "solidity": 0.2
             }
            },
            "type": "histogram"
           }
          ],
          "histogram2d": [
           {
            "colorbar": {
             "outlinewidth": 0,
             "ticks": ""
            },
            "colorscale": [
             [
              0,
              "#0d0887"
             ],
             [
              0.1111111111111111,
              "#46039f"
             ],
             [
              0.2222222222222222,
              "#7201a8"
             ],
             [
              0.3333333333333333,
              "#9c179e"
             ],
             [
              0.4444444444444444,
              "#bd3786"
             ],
             [
              0.5555555555555556,
              "#d8576b"
             ],
             [
              0.6666666666666666,
              "#ed7953"
             ],
             [
              0.7777777777777778,
              "#fb9f3a"
             ],
             [
              0.8888888888888888,
              "#fdca26"
             ],
             [
              1,
              "#f0f921"
             ]
            ],
            "type": "histogram2d"
           }
          ],
          "histogram2dcontour": [
           {
            "colorbar": {
             "outlinewidth": 0,
             "ticks": ""
            },
            "colorscale": [
             [
              0,
              "#0d0887"
             ],
             [
              0.1111111111111111,
              "#46039f"
             ],
             [
              0.2222222222222222,
              "#7201a8"
             ],
             [
              0.3333333333333333,
              "#9c179e"
             ],
             [
              0.4444444444444444,
              "#bd3786"
             ],
             [
              0.5555555555555556,
              "#d8576b"
             ],
             [
              0.6666666666666666,
              "#ed7953"
             ],
             [
              0.7777777777777778,
              "#fb9f3a"
             ],
             [
              0.8888888888888888,
              "#fdca26"
             ],
             [
              1,
              "#f0f921"
             ]
            ],
            "type": "histogram2dcontour"
           }
          ],
          "mesh3d": [
           {
            "colorbar": {
             "outlinewidth": 0,
             "ticks": ""
            },
            "type": "mesh3d"
           }
          ],
          "parcoords": [
           {
            "line": {
             "colorbar": {
              "outlinewidth": 0,
              "ticks": ""
             }
            },
            "type": "parcoords"
           }
          ],
          "pie": [
           {
            "automargin": true,
            "type": "pie"
           }
          ],
          "scatter": [
           {
            "fillpattern": {
             "fillmode": "overlay",
             "size": 10,
             "solidity": 0.2
            },
            "type": "scatter"
           }
          ],
          "scatter3d": [
           {
            "line": {
             "colorbar": {
              "outlinewidth": 0,
              "ticks": ""
             }
            },
            "marker": {
             "colorbar": {
              "outlinewidth": 0,
              "ticks": ""
             }
            },
            "type": "scatter3d"
           }
          ],
          "scattercarpet": [
           {
            "marker": {
             "colorbar": {
              "outlinewidth": 0,
              "ticks": ""
             }
            },
            "type": "scattercarpet"
           }
          ],
          "scattergeo": [
           {
            "marker": {
             "colorbar": {
              "outlinewidth": 0,
              "ticks": ""
             }
            },
            "type": "scattergeo"
           }
          ],
          "scattergl": [
           {
            "marker": {
             "colorbar": {
              "outlinewidth": 0,
              "ticks": ""
             }
            },
            "type": "scattergl"
           }
          ],
          "scattermap": [
           {
            "marker": {
             "colorbar": {
              "outlinewidth": 0,
              "ticks": ""
             }
            },
            "type": "scattermap"
           }
          ],
          "scattermapbox": [
           {
            "marker": {
             "colorbar": {
              "outlinewidth": 0,
              "ticks": ""
             }
            },
            "type": "scattermapbox"
           }
          ],
          "scatterpolar": [
           {
            "marker": {
             "colorbar": {
              "outlinewidth": 0,
              "ticks": ""
             }
            },
            "type": "scatterpolar"
           }
          ],
          "scatterpolargl": [
           {
            "marker": {
             "colorbar": {
              "outlinewidth": 0,
              "ticks": ""
             }
            },
            "type": "scatterpolargl"
           }
          ],
          "scatterternary": [
           {
            "marker": {
             "colorbar": {
              "outlinewidth": 0,
              "ticks": ""
             }
            },
            "type": "scatterternary"
           }
          ],
          "surface": [
           {
            "colorbar": {
             "outlinewidth": 0,
             "ticks": ""
            },
            "colorscale": [
             [
              0,
              "#0d0887"
             ],
             [
              0.1111111111111111,
              "#46039f"
             ],
             [
              0.2222222222222222,
              "#7201a8"
             ],
             [
              0.3333333333333333,
              "#9c179e"
             ],
             [
              0.4444444444444444,
              "#bd3786"
             ],
             [
              0.5555555555555556,
              "#d8576b"
             ],
             [
              0.6666666666666666,
              "#ed7953"
             ],
             [
              0.7777777777777778,
              "#fb9f3a"
             ],
             [
              0.8888888888888888,
              "#fdca26"
             ],
             [
              1,
              "#f0f921"
             ]
            ],
            "type": "surface"
           }
          ],
          "table": [
           {
            "cells": {
             "fill": {
              "color": "#EBF0F8"
             },
             "line": {
              "color": "white"
             }
            },
            "header": {
             "fill": {
              "color": "#C8D4E3"
             },
             "line": {
              "color": "white"
             }
            },
            "type": "table"
           }
          ]
         },
         "layout": {
          "annotationdefaults": {
           "arrowcolor": "#2a3f5f",
           "arrowhead": 0,
           "arrowwidth": 1
          },
          "autotypenumbers": "strict",
          "coloraxis": {
           "colorbar": {
            "outlinewidth": 0,
            "ticks": ""
           }
          },
          "colorscale": {
           "diverging": [
            [
             0,
             "#8e0152"
            ],
            [
             0.1,
             "#c51b7d"
            ],
            [
             0.2,
             "#de77ae"
            ],
            [
             0.3,
             "#f1b6da"
            ],
            [
             0.4,
             "#fde0ef"
            ],
            [
             0.5,
             "#f7f7f7"
            ],
            [
             0.6,
             "#e6f5d0"
            ],
            [
             0.7,
             "#b8e186"
            ],
            [
             0.8,
             "#7fbc41"
            ],
            [
             0.9,
             "#4d9221"
            ],
            [
             1,
             "#276419"
            ]
           ],
           "sequential": [
            [
             0,
             "#0d0887"
            ],
            [
             0.1111111111111111,
             "#46039f"
            ],
            [
             0.2222222222222222,
             "#7201a8"
            ],
            [
             0.3333333333333333,
             "#9c179e"
            ],
            [
             0.4444444444444444,
             "#bd3786"
            ],
            [
             0.5555555555555556,
             "#d8576b"
            ],
            [
             0.6666666666666666,
             "#ed7953"
            ],
            [
             0.7777777777777778,
             "#fb9f3a"
            ],
            [
             0.8888888888888888,
             "#fdca26"
            ],
            [
             1,
             "#f0f921"
            ]
           ],
           "sequentialminus": [
            [
             0,
             "#0d0887"
            ],
            [
             0.1111111111111111,
             "#46039f"
            ],
            [
             0.2222222222222222,
             "#7201a8"
            ],
            [
             0.3333333333333333,
             "#9c179e"
            ],
            [
             0.4444444444444444,
             "#bd3786"
            ],
            [
             0.5555555555555556,
             "#d8576b"
            ],
            [
             0.6666666666666666,
             "#ed7953"
            ],
            [
             0.7777777777777778,
             "#fb9f3a"
            ],
            [
             0.8888888888888888,
             "#fdca26"
            ],
            [
             1,
             "#f0f921"
            ]
           ]
          },
          "colorway": [
           "#636efa",
           "#EF553B",
           "#00cc96",
           "#ab63fa",
           "#FFA15A",
           "#19d3f3",
           "#FF6692",
           "#B6E880",
           "#FF97FF",
           "#FECB52"
          ],
          "font": {
           "color": "#2a3f5f"
          },
          "geo": {
           "bgcolor": "white",
           "lakecolor": "white",
           "landcolor": "#E5ECF6",
           "showlakes": true,
           "showland": true,
           "subunitcolor": "white"
          },
          "hoverlabel": {
           "align": "left"
          },
          "hovermode": "closest",
          "mapbox": {
           "style": "light"
          },
          "paper_bgcolor": "white",
          "plot_bgcolor": "#E5ECF6",
          "polar": {
           "angularaxis": {
            "gridcolor": "white",
            "linecolor": "white",
            "ticks": ""
           },
           "bgcolor": "#E5ECF6",
           "radialaxis": {
            "gridcolor": "white",
            "linecolor": "white",
            "ticks": ""
           }
          },
          "scene": {
           "xaxis": {
            "backgroundcolor": "#E5ECF6",
            "gridcolor": "white",
            "gridwidth": 2,
            "linecolor": "white",
            "showbackground": true,
            "ticks": "",
            "zerolinecolor": "white"
           },
           "yaxis": {
            "backgroundcolor": "#E5ECF6",
            "gridcolor": "white",
            "gridwidth": 2,
            "linecolor": "white",
            "showbackground": true,
            "ticks": "",
            "zerolinecolor": "white"
           },
           "zaxis": {
            "backgroundcolor": "#E5ECF6",
            "gridcolor": "white",
            "gridwidth": 2,
            "linecolor": "white",
            "showbackground": true,
            "ticks": "",
            "zerolinecolor": "white"
           }
          },
          "shapedefaults": {
           "line": {
            "color": "#2a3f5f"
           }
          },
          "ternary": {
           "aaxis": {
            "gridcolor": "white",
            "linecolor": "white",
            "ticks": ""
           },
           "baxis": {
            "gridcolor": "white",
            "linecolor": "white",
            "ticks": ""
           },
           "bgcolor": "#E5ECF6",
           "caxis": {
            "gridcolor": "white",
            "linecolor": "white",
            "ticks": ""
           }
          },
          "title": {
           "x": 0.05
          },
          "xaxis": {
           "automargin": true,
           "gridcolor": "white",
           "linecolor": "white",
           "ticks": "",
           "title": {
            "standoff": 15
           },
           "zerolinecolor": "white",
           "zerolinewidth": 2
          },
          "yaxis": {
           "automargin": true,
           "gridcolor": "white",
           "linecolor": "white",
           "ticks": "",
           "title": {
            "standoff": 15
           },
           "zerolinecolor": "white",
           "zerolinewidth": 2
          }
         }
        },
        "width": 900,
        "xaxis": {
         "anchor": "y",
         "domain": [
          0,
          1
         ]
        },
        "yaxis": {
         "anchor": "x",
         "autorange": "reversed",
         "domain": [
          0,
          1
         ]
        }
       }
      }
     },
     "metadata": {},
     "output_type": "display_data"
    }
   ],
   "source": [
    "Z_med = linkage(medium_egfr_df.values, method = \"ward\", metric = \"euclidean\")\n",
    "row_order_med = leaves_list(Z_med)\n",
    "\n",
    "ordered_data_med = medium_egfr_df.values[row_order_med, :]\n",
    "fig = px.imshow(ordered_data_med,\n",
    "                width = 900, height=500,\n",
    "                color_continuous_scale='viridis',\n",
    "                labels = {\"color\": \"Read depth\"},\n",
    "                aspect = 'auto',\n",
    "                zmax = 100)\n",
    "fig.show()"
   ]
  },
  {
   "cell_type": "code",
   "execution_count": 16,
   "id": "a4520537",
   "metadata": {},
   "outputs": [
    {
     "name": "stdout",
     "output_type": "stream",
     "text": [
      "bin_id  7_53000001_53500000  7_53500001_54000000  7_54000001_54500000  \\\n",
      "count             24.000000            24.000000            24.000000   \n",
      "mean               3.601079             3.435193            34.385225   \n",
      "std                1.197186             0.795017            23.317296   \n",
      "min                1.806389             2.259518            12.303315   \n",
      "25%                2.836983             2.919835            18.231796   \n",
      "50%                3.250490             3.349970            26.792677   \n",
      "75%                4.103739             3.900516            46.375559   \n",
      "max                6.098257             5.237736           106.332515   \n",
      "\n",
      "bin_id  7_54500001_55000000  \n",
      "count             24.000000  \n",
      "mean              71.431171  \n",
      "std               51.473015  \n",
      "min               22.549205  \n",
      "25%               34.629617  \n",
      "50%               53.073822  \n",
      "75%               99.572811  \n",
      "max              236.284715  \n",
      "(24, 10)\n"
     ]
    },
    {
     "data": {
      "text/plain": [
       "Text(0, 0.5, 'Frequency')"
      ]
     },
     "execution_count": 16,
     "metadata": {},
     "output_type": "execute_result"
    },
    {
     "data": {
      "image/png": "[encoded data removed]",
      "text/plain": [
       "<Figure size 640x480 with 1 Axes>"
      ]
     },
     "metadata": {},
     "output_type": "display_data"
    }
   ],
   "source": [
    "medium_egfr_df\n",
    "# Get read depth distribution for medium ecDNA group in columns 3~6\n",
    "print(medium_egfr_df.iloc[:, 3:7].describe())\n",
    "print(medium_egfr_df.shape)\n",
    "# Plot histogram of read depth for medium ecDNA group\n",
    "medium_egfr_hist = np.histogram(medium_egfr_df.iloc[:, 5:9].values.flatten(), bins=30)\n",
    "sns.histplot(medium_egfr_df.iloc[:, 5:9].values.mean(axis = 1), bins=30, kde=True)\n",
    "plt.title(\"Cell-level CN Distribution for Medium EGFR ecDNA Group\")\n",
    "plt.xlabel(\"Mean CN (Cell)\")\n",
    "plt.ylabel(\"Frequency\")\n"
   ]
  },
  {
   "cell_type": "code",
   "execution_count": 17,
   "id": "2765c078",
   "metadata": {},
   "outputs": [
    {
     "name": "stderr",
     "output_type": "stream",
     "text": [
      "/tmp/ipykernel_1875059/3686770624.py:2: MatplotlibDeprecationWarning:\n",
      "\n",
      "The 'labels' parameter of boxplot() has been renamed 'tick_labels' since Matplotlib 3.9; support for the old name will be dropped in 3.11.\n",
      "\n"
     ]
    },
    {
     "data": {
      "image/png": "[encoded data removed]",
      "text/plain": [
       "<Figure size 1000x600 with 1 Axes>"
      ]
     },
     "metadata": {},
     "output_type": "display_data"
    }
   ],
   "source": [
    "plt.figure(figsize = (10, 6))\n",
    "plt.boxplot(medium_egfr_df.values, labels = medium_egfr_df.columns, showfliers = False)\n",
    "plt.title(\"Copy Number Distribution for EGFR ecDNA Group B\")\n",
    "plt.xlabel(\"Bins\")\n",
    "plt.ylabel(\"Copy Number\")\n",
    "plt.xticks(ticks = range(1, len(xtick_labels) + 1), labels = xtick_labels, fontsize = 8)\n",
    "plt.tight_layout()\n",
    "plt.show()"
   ]
  },
  {
   "cell_type": "code",
   "execution_count": 18,
   "id": "919770f7",
   "metadata": {},
   "outputs": [
    {
     "data": {
      "application/vnd.plotly.v1+json": {
       "config": {
        "plotlyServerURL": "https://plot.ly"
       },
       "data": [
        {
         "coloraxis": "coloraxis",
         "hovertemplate": "x: %{x}<br>y: %{y}<br>Read depth: %{z}<extra></extra>",
         "name": "0",
         "type": "heatmap",
         "xaxis": "x",
         "yaxis": "y",
         "z": {
          "bdata": "iNPfX6uFAkDaGcB83WUHQEaMQgaUCghAqOS4bdAJBkAFgAEPulwIQCgkH9qSuwpAfUrb7KZ2TkDb21QxuhxYQCdKRx6A3vk/I2qfVlPNAUBYz1pdmEL9PwPo++SSZBpARKN/ATZeF0Dk27iZmVoYQPZ15G+A8BBAPvjf3nS7FkAYRJF60eVMQOuQjrIe3FRA2tut4ZDF4z+Ag6/KVa4GQLZ7JPrD5QVAsVmuSFyfIEBNX06/oWwLQMLBMOU2HwBAEegXTLPPB0Bv5oiXVpYFQIKDLWQfOyRAfAfxbwc2KED+AxO6KC4FQCSnoPLrfwJAcdmZ0MfcAUBDosgKSyYWQNmZutq29RRA3pcE+dtNFEB4zr+46zQSQNdRq6lAMBFAO2M9VsxvCkAHXJoCrWkOQAodbEnkSPE/KO331FsK/j/sk4srsMwJQKGfsv1eSRJAeOrP9ILFEECnRzFxnHIYQGx+RzUFERRAsByIpVVzFECU3gI8X9AYQBU1kf5jbQ9AciczQ7m/BUDvTdR+iHoIQFqVlqDSpP4/AwM4KXwTBED2jQHzNsT9P6fJpe8A5PM/d8phsyVxAUBiVLmgCKUAQB98nX+2LwhAqXiPizZdBUD7dG9BBrP7PxcBlnhHkvw/drnQlLlcAUAT4I2rU+v9P/6Y4byhuAVA41HjjWbiB0Ca4Nk5UtcFQCqrjJhlxPw/h85K3fDsAUBCy3qtXawAQD1NOrlNPfA/8iuJR8b14T+3/lAxzRrxP1GoLNOAEgtAjD3yKM/NDUBxHJm0ekoCQOu/JKQi9AlAPZesZSZxCEBN7A7dCRAXQCphyMMELgdAJT7seI678z/JjaGF0C70P+WU9jbqpQNA/t8xUdUFCEA/veAvtbn+P+b6oD50JgpASWuEfeHLCEDtjOplZhsRQMW6tU34ZQZANnI6XFyIB0CrxWLd0iIBQLN63e2h0QBAcgB1i0PoBkDa0ypNg0UJQKiTH+yszAZArOtynnRaCkDWK2ALDwAJQORKLNIWnwlAX14MkSxqE0DqMcgSQ0cJQIk+S2Xa6gNAUVLdexb3BkAK+lPBstH7P7GOyRa3mgtASj7dX8kzC0D9rf9RJ28QQJMhFhmsXwVAVXvAdbNRBUC1kK069IYQQC2CDOOu3QtAyBzZXaQxAUBZ9Z0Wga76P2zIrULBFPw/JsiExz2iLkCFWToZU6oxQMmx2dv0/C5ACpfGaTEULkCR4H3X9JhBQO6HMnBi7ENASFwVmeaFN0A4RqlJ9Ej4P6jq0yt8F/c/UFNYtuFsBUD/TwWuKKcxQLSkA8OokhJA9abWswGvEECStISHaZ4LQDFO3To3NBJANXM/48KUNEC20u/VeLo+QBwPmbxFIf8/qdO/kA7K/D9e570nbuP9PxaZlwjh1QFAgTASD5F5CUAxETjgn74GQKs0hmoiVAdA7wJfACjkBUBl/Nc8Ji8xQPsXym7aVEFAPqMEJlPi/j/q4CxYdTsBQNB58HucIPM/rTb6r/Z1C0DPfCpu3l8NQAeCtaTNQw1AF/OPpVEoBkBB0CwLVRoNQMXSLnEnjzFAcE8zxPXTO0A+mcwSdN0GQNR2xFG9tAZA",
          "dtype": "f8",
          "shape": "15, 10"
         }
        }
       ],
       "layout": {
        "coloraxis": {
         "cmax": 100,
         "cmin": 0.561251773565685,
         "colorbar": {
          "title": {
           "text": "Read depth"
          }
         },
         "colorscale": [
          [
           0,
           "#440154"
          ],
          [
           0.1111111111111111,
           "#482878"
          ],
          [
           0.2222222222222222,
           "#3e4989"
          ],
          [
           0.3333333333333333,
           "#31688e"
          ],
          [
           0.4444444444444444,
           "#26828e"
          ],
          [
           0.5555555555555556,
           "#1f9e89"
          ],
          [
           0.6666666666666666,
           "#35b779"
          ],
          [
           0.7777777777777778,
           "#6ece58"
          ],
          [
           0.8888888888888888,
           "#b5de2b"
          ],
          [
           1,
           "#fde725"
          ]
         ]
        },
        "height": 500,
        "margin": {
         "t": 60
        },
        "template": {
         "data": {
          "bar": [
           {
            "error_x": {
             "color": "#2a3f5f"
            },
            "error_y": {
             "color": "#2a3f5f"
            },
            "marker": {
             "line": {
              "color": "#E5ECF6",
              "width": 0.5
             },
             "pattern": {
              "fillmode": "overlay",
              "size": 10,
              "solidity": 0.2
             }
            },
            "type": "bar"
           }
          ],
          "barpolar": [
           {
            "marker": {
             "line": {
              "color": "#E5ECF6",
              "width": 0.5
             },
             "pattern": {
              "fillmode": "overlay",
              "size": 10,
              "solidity": 0.2
             }
            },
            "type": "barpolar"
           }
          ],
          "carpet": [
           {
            "aaxis": {
             "endlinecolor": "#2a3f5f",
             "gridcolor": "white",
             "linecolor": "white",
             "minorgridcolor": "white",
             "startlinecolor": "#2a3f5f"
            },
            "baxis": {
             "endlinecolor": "#2a3f5f",
             "gridcolor": "white",
             "linecolor": "white",
             "minorgridcolor": "white",
             "startlinecolor": "#2a3f5f"
            },
            "type": "carpet"
           }
          ],
          "choropleth": [
           {
            "colorbar": {
             "outlinewidth": 0,
             "ticks": ""
            },
            "type": "choropleth"
           }
          ],
          "contour": [
           {
            "colorbar": {
             "outlinewidth": 0,
             "ticks": ""
            },
            "colorscale": [
             [
              0,
              "#0d0887"
             ],
             [
              0.1111111111111111,
              "#46039f"
             ],
             [
              0.2222222222222222,
              "#7201a8"
             ],
             [
              0.3333333333333333,
              "#9c179e"
             ],
             [
              0.4444444444444444,
              "#bd3786"
             ],
             [
              0.5555555555555556,
              "#d8576b"
             ],
             [
              0.6666666666666666,
              "#ed7953"
             ],
             [
              0.7777777777777778,
              "#fb9f3a"
             ],
             [
              0.8888888888888888,
              "#fdca26"
             ],
             [
              1,
              "#f0f921"
             ]
            ],
            "type": "contour"
           }
          ],
          "contourcarpet": [
           {
            "colorbar": {
             "outlinewidth": 0,
             "ticks": ""
            },
            "type": "contourcarpet"
           }
          ],
          "heatmap": [
           {
            "colorbar": {
             "outlinewidth": 0,
             "ticks": ""
            },
            "colorscale": [
             [
              0,
              "#0d0887"
             ],
             [
              0.1111111111111111,
              "#46039f"
             ],
             [
              0.2222222222222222,
              "#7201a8"
             ],
             [
              0.3333333333333333,
              "#9c179e"
             ],
             [
              0.4444444444444444,
              "#bd3786"
             ],
             [
              0.5555555555555556,
              "#d8576b"
             ],
             [
              0.6666666666666666,
              "#ed7953"
             ],
             [
              0.7777777777777778,
              "#fb9f3a"
             ],
             [
              0.8888888888888888,
              "#fdca26"
             ],
             [
              1,
              "#f0f921"
             ]
            ],
            "type": "heatmap"
           }
          ],
          "histogram": [
           {
            "marker": {
             "pattern": {
              "fillmode": "overlay",
              "size": 10,
              "solidity": 0.2
             }
            },
            "type": "histogram"
           }
          ],
          "histogram2d": [
           {
            "colorbar": {
             "outlinewidth": 0,
             "ticks": ""
            },
            "colorscale": [
             [
              0,
              "#0d0887"
             ],
             [
              0.1111111111111111,
              "#46039f"
             ],
             [
              0.2222222222222222,
              "#7201a8"
             ],
             [
              0.3333333333333333,
              "#9c179e"
             ],
             [
              0.4444444444444444,
              "#bd3786"
             ],
             [
              0.5555555555555556,
              "#d8576b"
             ],
             [
              0.6666666666666666,
              "#ed7953"
             ],
             [
              0.7777777777777778,
              "#fb9f3a"
             ],
             [
              0.8888888888888888,
              "#fdca26"
             ],
             [
              1,
              "#f0f921"
             ]
            ],
            "type": "histogram2d"
           }
          ],
          "histogram2dcontour": [
           {
            "colorbar": {
             "outlinewidth": 0,
             "ticks": ""
            },
            "colorscale": [
             [
              0,
              "#0d0887"
             ],
             [
              0.1111111111111111,
              "#46039f"
             ],
             [
              0.2222222222222222,
              "#7201a8"
             ],
             [
              0.3333333333333333,
              "#9c179e"
             ],
             [
              0.4444444444444444,
              "#bd3786"
             ],
             [
              0.5555555555555556,
              "#d8576b"
             ],
             [
              0.6666666666666666,
              "#ed7953"
             ],
             [
              0.7777777777777778,
              "#fb9f3a"
             ],
             [
              0.8888888888888888,
              "#fdca26"
             ],
             [
              1,
              "#f0f921"
             ]
            ],
            "type": "histogram2dcontour"
           }
          ],
          "mesh3d": [
           {
            "colorbar": {
             "outlinewidth": 0,
             "ticks": ""
            },
            "type": "mesh3d"
           }
          ],
          "parcoords": [
           {
            "line": {
             "colorbar": {
              "outlinewidth": 0,
              "ticks": ""
             }
            },
            "type": "parcoords"
           }
          ],
          "pie": [
           {
            "automargin": true,
            "type": "pie"
           }
          ],
          "scatter": [
           {
            "fillpattern": {
             "fillmode": "overlay",
             "size": 10,
             "solidity": 0.2
            },
            "type": "scatter"
           }
          ],
          "scatter3d": [
           {
            "line": {
             "colorbar": {
              "outlinewidth": 0,
              "ticks": ""
             }
            },
            "marker": {
             "colorbar": {
              "outlinewidth": 0,
              "ticks": ""
             }
            },
            "type": "scatter3d"
           }
          ],
          "scattercarpet": [
           {
            "marker": {
             "colorbar": {
              "outlinewidth": 0,
              "ticks": ""
             }
            },
            "type": "scattercarpet"
           }
          ],
          "scattergeo": [
           {
            "marker": {
             "colorbar": {
              "outlinewidth": 0,
              "ticks": ""
             }
            },
            "type": "scattergeo"
           }
          ],
          "scattergl": [
           {
            "marker": {
             "colorbar": {
              "outlinewidth": 0,
              "ticks": ""
             }
            },
            "type": "scattergl"
           }
          ],
          "scattermap": [
           {
            "marker": {
             "colorbar": {
              "outlinewidth": 0,
              "ticks": ""
             }
            },
            "type": "scattermap"
           }
          ],
          "scattermapbox": [
           {
            "marker": {
             "colorbar": {
              "outlinewidth": 0,
              "ticks": ""
             }
            },
            "type": "scattermapbox"
           }
          ],
          "scatterpolar": [
           {
            "marker": {
             "colorbar": {
              "outlinewidth": 0,
              "ticks": ""
             }
            },
            "type": "scatterpolar"
           }
          ],
          "scatterpolargl": [
           {
            "marker": {
             "colorbar": {
              "outlinewidth": 0,
              "ticks": ""
             }
            },
            "type": "scatterpolargl"
           }
          ],
          "scatterternary": [
           {
            "marker": {
             "colorbar": {
              "outlinewidth": 0,
              "ticks": ""
             }
            },
            "type": "scatterternary"
           }
          ],
          "surface": [
           {
            "colorbar": {
             "outlinewidth": 0,
             "ticks": ""
            },
            "colorscale": [
             [
              0,
              "#0d0887"
             ],
             [
              0.1111111111111111,
              "#46039f"
             ],
             [
              0.2222222222222222,
              "#7201a8"
             ],
             [
              0.3333333333333333,
              "#9c179e"
             ],
             [
              0.4444444444444444,
              "#bd3786"
             ],
             [
              0.5555555555555556,
              "#d8576b"
             ],
             [
              0.6666666666666666,
              "#ed7953"
             ],
             [
              0.7777777777777778,
              "#fb9f3a"
             ],
             [
              0.8888888888888888,
              "#fdca26"
             ],
             [
              1,
              "#f0f921"
             ]
            ],
            "type": "surface"
           }
          ],
          "table": [
           {
            "cells": {
             "fill": {
              "color": "#EBF0F8"
             },
             "line": {
              "color": "white"
             }
            },
            "header": {
             "fill": {
              "color": "#C8D4E3"
             },
             "line": {
              "color": "white"
             }
            },
            "type": "table"
           }
          ]
         },
         "layout": {
          "annotationdefaults": {
           "arrowcolor": "#2a3f5f",
           "arrowhead": 0,
           "arrowwidth": 1
          },
          "autotypenumbers": "strict",
          "coloraxis": {
           "colorbar": {
            "outlinewidth": 0,
            "ticks": ""
           }
          },
          "colorscale": {
           "diverging": [
            [
             0,
             "#8e0152"
            ],
            [
             0.1,
             "#c51b7d"
            ],
            [
             0.2,
             "#de77ae"
            ],
            [
             0.3,
             "#f1b6da"
            ],
            [
             0.4,
             "#fde0ef"
            ],
            [
             0.5,
             "#f7f7f7"
            ],
            [
             0.6,
             "#e6f5d0"
            ],
            [
             0.7,
             "#b8e186"
            ],
            [
             0.8,
             "#7fbc41"
            ],
            [
             0.9,
             "#4d9221"
            ],
            [
             1,
             "#276419"
            ]
           ],
           "sequential": [
            [
             0,
             "#0d0887"
            ],
            [
             0.1111111111111111,
             "#46039f"
            ],
            [
             0.2222222222222222,
             "#7201a8"
            ],
            [
             0.3333333333333333,
             "#9c179e"
            ],
            [
             0.4444444444444444,
             "#bd3786"
            ],
            [
             0.5555555555555556,
             "#d8576b"
            ],
            [
             0.6666666666666666,
             "#ed7953"
            ],
            [
             0.7777777777777778,
             "#fb9f3a"
            ],
            [
             0.8888888888888888,
             "#fdca26"
            ],
            [
             1,
             "#f0f921"
            ]
           ],
           "sequentialminus": [
            [
             0,
             "#0d0887"
            ],
            [
             0.1111111111111111,
             "#46039f"
            ],
            [
             0.2222222222222222,
             "#7201a8"
            ],
            [
             0.3333333333333333,
             "#9c179e"
            ],
            [
             0.4444444444444444,
             "#bd3786"
            ],
            [
             0.5555555555555556,
             "#d8576b"
            ],
            [
             0.6666666666666666,
             "#ed7953"
            ],
            [
             0.7777777777777778,
             "#fb9f3a"
            ],
            [
             0.8888888888888888,
             "#fdca26"
            ],
            [
             1,
             "#f0f921"
            ]
           ]
          },
          "colorway": [
           "#636efa",
           "#EF553B",
           "#00cc96",
           "#ab63fa",
           "#FFA15A",
           "#19d3f3",
           "#FF6692",
           "#B6E880",
           "#FF97FF",
           "#FECB52"
          ],
          "font": {
           "color": "#2a3f5f"
          },
          "geo": {
           "bgcolor": "white",
           "lakecolor": "white",
           "landcolor": "#E5ECF6",
           "showlakes": true,
           "showland": true,
           "subunitcolor": "white"
          },
          "hoverlabel": {
           "align": "left"
          },
          "hovermode": "closest",
          "mapbox": {
           "style": "light"
          },
          "paper_bgcolor": "white",
          "plot_bgcolor": "#E5ECF6",
          "polar": {
           "angularaxis": {
            "gridcolor": "white",
            "linecolor": "white",
            "ticks": ""
           },
           "bgcolor": "#E5ECF6",
           "radialaxis": {
            "gridcolor": "white",
            "linecolor": "white",
            "ticks": ""
           }
          },
          "scene": {
           "xaxis": {
            "backgroundcolor": "#E5ECF6",
            "gridcolor": "white",
            "gridwidth": 2,
            "linecolor": "white",
            "showbackground": true,
            "ticks": "",
            "zerolinecolor": "white"
           },
           "yaxis": {
            "backgroundcolor": "#E5ECF6",
            "gridcolor": "white",
            "gridwidth": 2,
            "linecolor": "white",
            "showbackground": true,
            "ticks": "",
            "zerolinecolor": "white"
           },
           "zaxis": {
            "backgroundcolor": "#E5ECF6",
            "gridcolor": "white",
            "gridwidth": 2,
            "linecolor": "white",
            "showbackground": true,
            "ticks": "",
            "zerolinecolor": "white"
           }
          },
          "shapedefaults": {
           "line": {
            "color": "#2a3f5f"
           }
          },
          "ternary": {
           "aaxis": {
            "gridcolor": "white",
            "linecolor": "white",
            "ticks": ""
           },
           "baxis": {
            "gridcolor": "white",
            "linecolor": "white",
            "ticks": ""
           },
           "bgcolor": "#E5ECF6",
           "caxis": {
            "gridcolor": "white",
            "linecolor": "white",
            "ticks": ""
           }
          },
          "title": {
           "x": 0.05
          },
          "xaxis": {
           "automargin": true,
           "gridcolor": "white",
           "linecolor": "white",
           "ticks": "",
           "title": {
            "standoff": 15
           },
           "zerolinecolor": "white",
           "zerolinewidth": 2
          },
          "yaxis": {
           "automargin": true,
           "gridcolor": "white",
           "linecolor": "white",
           "ticks": "",
           "title": {
            "standoff": 15
           },
           "zerolinecolor": "white",
           "zerolinewidth": 2
          }
         }
        },
        "width": 900,
        "xaxis": {
         "anchor": "y",
         "domain": [
          0,
          1
         ]
        },
        "yaxis": {
         "anchor": "x",
         "autorange": "reversed",
         "domain": [
          0,
          1
         ]
        }
       }
      }
     },
     "metadata": {},
     "output_type": "display_data"
    }
   ],
   "source": [
    "Z_small = linkage(small_egfr_df.values, method = \"ward\", metric = \"euclidean\")\n",
    "row_order_small = leaves_list(Z_small)\n",
    "\n",
    "ordered_data_small = small_egfr_df.values[row_order_small, :]\n",
    "fig = px.imshow(ordered_data_small,\n",
    "                width = 900, height=500,\n",
    "                color_continuous_scale='viridis',\n",
    "                labels = {\"color\": \"Read depth\"},\n",
    "                aspect = 'auto',\n",
    "                zmax = 100)\n",
    "fig.show()"
   ]
  },
  {
   "cell_type": "code",
   "execution_count": 19,
   "id": "8fe8abf3",
   "metadata": {},
   "outputs": [
    {
     "name": "stdout",
     "output_type": "stream",
     "text": [
      "bin_id  7_54500001_55000000  7_55000001_55500000\n",
      "count              7.000000             7.000000\n",
      "mean               7.663890            11.208403\n",
      "std                6.746741            13.844424\n",
      "min                2.240694             2.084163\n",
      "25%                3.163943             3.076879\n",
      "50%                4.131791             3.801600\n",
      "75%               11.693833            15.878191\n",
      "max               17.559196            34.662916\n",
      "(15, 10)\n"
     ]
    },
    {
     "data": {
      "image/png": "[encoded data removed]",
      "text/plain": [
       "<Figure size 640x480 with 1 Axes>"
      ]
     },
     "metadata": {},
     "output_type": "display_data"
    }
   ],
   "source": [
    "print(small_egfr_df.iloc[[0, 1, 2, 11, 12, 13, 14], 6:8].describe())\n",
    "print(small_egfr_df.shape)\n",
    "# Plot histogram of read depth for small ecDNA group\n",
    "small_egfr_hist = np.histogram(small_egfr_df.iloc[:6, 4:6].values.mean(axis = 1), bins=30)\n",
    "sns.histplot(small_egfr_df.iloc[:6, 4:6].values.mean(axis = 1), bins=30, kde=True)\n",
    "plt.title(\"Cell-level Copy CN Distribution for Small EGFR ecDNA Group\")\n",
    "plt.xlabel(\"Mean CN (Cell)\")\n",
    "plt.ylabel(\"Frequency\")\n",
    "plt.show()"
   ]
  },
  {
   "cell_type": "code",
   "execution_count": 20,
   "id": "8c390478",
   "metadata": {},
   "outputs": [
    {
     "name": "stderr",
     "output_type": "stream",
     "text": [
      "/tmp/ipykernel_1875059/3661362601.py:2: MatplotlibDeprecationWarning:\n",
      "\n",
      "The 'labels' parameter of boxplot() has been renamed 'tick_labels' since Matplotlib 3.9; support for the old name will be dropped in 3.11.\n",
      "\n"
     ]
    },
    {
     "data": {
      "image/png": "[encoded data removed]",
      "text/plain": [
       "<Figure size 1000x600 with 1 Axes>"
      ]
     },
     "metadata": {},
     "output_type": "display_data"
    }
   ],
   "source": [
    "plt.figure(figsize = (10, 6))\n",
    "plt.boxplot(small_egfr_df.values, labels = small_egfr_df.columns, showfliers = False)\n",
    "plt.title(\"Copy Number Distribution for EGFR ecDNA Group C\")\n",
    "plt.xlabel(\"Bins\")\n",
    "plt.ylabel(\"Copy Number\")\n",
    "plt.xticks(ticks = range(1, len(xtick_labels) + 1), labels = xtick_labels, fontsize = 8)\n",
    "plt.tight_layout()\n",
    "plt.show()"
   ]
  },
  {
   "cell_type": "code",
   "execution_count": 21,
   "id": "cfe72302",
   "metadata": {},
   "outputs": [
    {
     "data": {
      "application/vnd.plotly.v1+json": {
       "config": {
        "plotlyServerURL": "https://plot.ly"
       },
       "data": [
        {
         "coloraxis": "coloraxis",
         "hovertemplate": "x: %{x}<br>y: %{y}<br>Read depth: %{z}<extra></extra>",
         "name": "0",
         "type": "heatmap",
         "xaxis": "x",
         "yaxis": "y",
         "z": {
          "bdata": "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",
          "dtype": "f8",
          "shape": "272, 10"
         }
        }
       ],
       "layout": {
        "coloraxis": {
         "cmax": 100,
         "cmin": 0.395115297277201,
         "colorbar": {
          "title": {
           "text": "Read depth"
          }
         },
         "colorscale": [
          [
           0,
           "#440154"
          ],
          [
           0.1111111111111111,
           "#482878"
          ],
          [
           0.2222222222222222,
           "#3e4989"
          ],
          [
           0.3333333333333333,
           "#31688e"
          ],
          [
           0.4444444444444444,
           "#26828e"
          ],
          [
           0.5555555555555556,
           "#1f9e89"
          ],
          [
           0.6666666666666666,
           "#35b779"
          ],
          [
           0.7777777777777778,
           "#6ece58"
          ],
          [
           0.8888888888888888,
           "#b5de2b"
          ],
          [
           1,
           "#fde725"
          ]
         ]
        },
        "height": 800,
        "margin": {
         "t": 60
        },
        "template": {
         "data": {
          "bar": [
           {
            "error_x": {
             "color": "#2a3f5f"
            },
            "error_y": {
             "color": "#2a3f5f"
            },
            "marker": {
             "line": {
              "color": "#E5ECF6",
              "width": 0.5
             },
             "pattern": {
              "fillmode": "overlay",
              "size": 10,
              "solidity": 0.2
             }
            },
            "type": "bar"
           }
          ],
          "barpolar": [
           {
            "marker": {
             "line": {
              "color": "#E5ECF6",
              "width": 0.5
             },
             "pattern": {
              "fillmode": "overlay",
              "size": 10,
              "solidity": 0.2
             }
            },
            "type": "barpolar"
           }
          ],
          "carpet": [
           {
            "aaxis": {
             "endlinecolor": "#2a3f5f",
             "gridcolor": "white",
             "linecolor": "white",
             "minorgridcolor": "white",
             "startlinecolor": "#2a3f5f"
            },
            "baxis": {
             "endlinecolor": "#2a3f5f",
             "gridcolor": "white",
             "linecolor": "white",
             "minorgridcolor": "white",
             "startlinecolor": "#2a3f5f"
            },
            "type": "carpet"
           }
          ],
          "choropleth": [
           {
            "colorbar": {
             "outlinewidth": 0,
             "ticks": ""
            },
            "type": "choropleth"
           }
          ],
          "contour": [
           {
            "colorbar": {
             "outlinewidth": 0,
             "ticks": ""
            },
            "colorscale": [
             [
              0,
              "#0d0887"
             ],
             [
              0.1111111111111111,
              "#46039f"
             ],
             [
              0.2222222222222222,
              "#7201a8"
             ],
             [
              0.3333333333333333,
              "#9c179e"
             ],
             [
              0.4444444444444444,
              "#bd3786"
             ],
             [
              0.5555555555555556,
              "#d8576b"
             ],
             [
              0.6666666666666666,
              "#ed7953"
             ],
             [
              0.7777777777777778,
              "#fb9f3a"
             ],
             [
              0.8888888888888888,
              "#fdca26"
             ],
             [
              1,
              "#f0f921"
             ]
            ],
            "type": "contour"
           }
          ],
          "contourcarpet": [
           {
            "colorbar": {
             "outlinewidth": 0,
             "ticks": ""
            },
            "type": "contourcarpet"
           }
          ],
          "heatmap": [
           {
            "colorbar": {
             "outlinewidth": 0,
             "ticks": ""
            },
            "colorscale": [
             [
              0,
              "#0d0887"
             ],
             [
              0.1111111111111111,
              "#46039f"
             ],
             [
              0.2222222222222222,
              "#7201a8"
             ],
             [
              0.3333333333333333,
              "#9c179e"
             ],
             [
              0.4444444444444444,
              "#bd3786"
             ],
             [
              0.5555555555555556,
              "#d8576b"
             ],
             [
              0.6666666666666666,
              "#ed7953"
             ],
             [
              0.7777777777777778,
              "#fb9f3a"
             ],
             [
              0.8888888888888888,
              "#fdca26"
             ],
             [
              1,
              "#f0f921"
             ]
            ],
            "type": "heatmap"
           }
          ],
          "histogram": [
           {
            "marker": {
             "pattern": {
              "fillmode": "overlay",
              "size": 10,
              "solidity": 0.2
             }
            },
            "type": "histogram"
           }
          ],
          "histogram2d": [
           {
            "colorbar": {
             "outlinewidth": 0,
             "ticks": ""
            },
            "colorscale": [
             [
              0,
              "#0d0887"
             ],
             [
              0.1111111111111111,
              "#46039f"
             ],
             [
              0.2222222222222222,
              "#7201a8"
             ],
             [
              0.3333333333333333,
              "#9c179e"
             ],
             [
              0.4444444444444444,
              "#bd3786"
             ],
             [
              0.5555555555555556,
              "#d8576b"
             ],
             [
              0.6666666666666666,
              "#ed7953"
             ],
             [
              0.7777777777777778,
              "#fb9f3a"
             ],
             [
              0.8888888888888888,
              "#fdca26"
             ],
             [
              1,
              "#f0f921"
             ]
            ],
            "type": "histogram2d"
           }
          ],
          "histogram2dcontour": [
           {
            "colorbar": {
             "outlinewidth": 0,
             "ticks": ""
            },
            "colorscale": [
             [
              0,
              "#0d0887"
             ],
             [
              0.1111111111111111,
              "#46039f"
             ],
             [
              0.2222222222222222,
              "#7201a8"
             ],
             [
              0.3333333333333333,
              "#9c179e"
             ],
             [
              0.4444444444444444,
              "#bd3786"
             ],
             [
              0.5555555555555556,
              "#d8576b"
             ],
             [
              0.6666666666666666,
              "#ed7953"
             ],
             [
              0.7777777777777778,
              "#fb9f3a"
             ],
             [
              0.8888888888888888,
              "#fdca26"
             ],
             [
              1,
              "#f0f921"
             ]
            ],
            "type": "histogram2dcontour"
           }
          ],
          "mesh3d": [
           {
            "colorbar": {
             "outlinewidth": 0,
             "ticks": ""
            },
            "type": "mesh3d"
           }
          ],
          "parcoords": [
           {
            "line": {
             "colorbar": {
              "outlinewidth": 0,
              "ticks": ""
             }
            },
            "type": "parcoords"
           }
          ],
          "pie": [
           {
            "automargin": true,
            "type": "pie"
           }
          ],
          "scatter": [
           {
            "fillpattern": {
             "fillmode": "overlay",
             "size": 10,
             "solidity": 0.2
            },
            "type": "scatter"
           }
          ],
          "scatter3d": [
           {
            "line": {
             "colorbar": {
              "outlinewidth": 0,
              "ticks": ""
             }
            },
            "marker": {
             "colorbar": {
              "outlinewidth": 0,
              "ticks": ""
             }
            },
            "type": "scatter3d"
           }
          ],
          "scattercarpet": [
           {
            "marker": {
             "colorbar": {
              "outlinewidth": 0,
              "ticks": ""
             }
            },
            "type": "scattercarpet"
           }
          ],
          "scattergeo": [
           {
            "marker": {
             "colorbar": {
              "outlinewidth": 0,
              "ticks": ""
             }
            },
            "type": "scattergeo"
           }
          ],
          "scattergl": [
           {
            "marker": {
             "colorbar": {
              "outlinewidth": 0,
              "ticks": ""
             }
            },
            "type": "scattergl"
           }
          ],
          "scattermap": [
           {
            "marker": {
             "colorbar": {
              "outlinewidth": 0,
              "ticks": ""
             }
            },
            "type": "scattermap"
           }
          ],
          "scattermapbox": [
           {
            "marker": {
             "colorbar": {
              "outlinewidth": 0,
              "ticks": ""
             }
            },
            "type": "scattermapbox"
           }
          ],
          "scatterpolar": [
           {
            "marker": {
             "colorbar": {
              "outlinewidth": 0,
              "ticks": ""
             }
            },
            "type": "scatterpolar"
           }
          ],
          "scatterpolargl": [
           {
            "marker": {
             "colorbar": {
              "outlinewidth": 0,
              "ticks": ""
             }
            },
            "type": "scatterpolargl"
           }
          ],
          "scatterternary": [
           {
            "marker": {
             "colorbar": {
              "outlinewidth": 0,
              "ticks": ""
             }
            },
            "type": "scatterternary"
           }
          ],
          "surface": [
           {
            "colorbar": {
             "outlinewidth": 0,
             "ticks": ""
            },
            "colorscale": [
             [
              0,
              "#0d0887"
             ],
             [
              0.1111111111111111,
              "#46039f"
             ],
             [
              0.2222222222222222,
              "#7201a8"
             ],
             [
              0.3333333333333333,
              "#9c179e"
             ],
             [
              0.4444444444444444,
              "#bd3786"
             ],
             [
              0.5555555555555556,
              "#d8576b"
             ],
             [
              0.6666666666666666,
              "#ed7953"
             ],
             [
              0.7777777777777778,
              "#fb9f3a"
             ],
             [
              0.8888888888888888,
              "#fdca26"
             ],
             [
              1,
              "#f0f921"
             ]
            ],
            "type": "surface"
           }
          ],
          "table": [
           {
            "cells": {
             "fill": {
              "color": "#EBF0F8"
             },
             "line": {
              "color": "white"
             }
            },
            "header": {
             "fill": {
              "color": "#C8D4E3"
             },
             "line": {
              "color": "white"
             }
            },
            "type": "table"
           }
          ]
         },
         "layout": {
          "annotationdefaults": {
           "arrowcolor": "#2a3f5f",
           "arrowhead": 0,
           "arrowwidth": 1
          },
          "autotypenumbers": "strict",
          "coloraxis": {
           "colorbar": {
            "outlinewidth": 0,
            "ticks": ""
           }
          },
          "colorscale": {
           "diverging": [
            [
             0,
             "#8e0152"
            ],
            [
             0.1,
             "#c51b7d"
            ],
            [
             0.2,
             "#de77ae"
            ],
            [
             0.3,
             "#f1b6da"
            ],
            [
             0.4,
             "#fde0ef"
            ],
            [
             0.5,
             "#f7f7f7"
            ],
            [
             0.6,
             "#e6f5d0"
            ],
            [
             0.7,
             "#b8e186"
            ],
            [
             0.8,
             "#7fbc41"
            ],
            [
             0.9,
             "#4d9221"
            ],
            [
             1,
             "#276419"
            ]
           ],
           "sequential": [
            [
             0,
             "#0d0887"
            ],
            [
             0.1111111111111111,
             "#46039f"
            ],
            [
             0.2222222222222222,
             "#7201a8"
            ],
            [
             0.3333333333333333,
             "#9c179e"
            ],
            [
             0.4444444444444444,
             "#bd3786"
            ],
            [
             0.5555555555555556,
             "#d8576b"
            ],
            [
             0.6666666666666666,
             "#ed7953"
            ],
            [
             0.7777777777777778,
             "#fb9f3a"
            ],
            [
             0.8888888888888888,
             "#fdca26"
            ],
            [
             1,
             "#f0f921"
            ]
           ],
           "sequentialminus": [
            [
             0,
             "#0d0887"
            ],
            [
             0.1111111111111111,
             "#46039f"
            ],
            [
             0.2222222222222222,
             "#7201a8"
            ],
            [
             0.3333333333333333,
             "#9c179e"
            ],
            [
             0.4444444444444444,
             "#bd3786"
            ],
            [
             0.5555555555555556,
             "#d8576b"
            ],
            [
             0.6666666666666666,
             "#ed7953"
            ],
            [
             0.7777777777777778,
             "#fb9f3a"
            ],
            [
             0.8888888888888888,
             "#fdca26"
            ],
            [
             1,
             "#f0f921"
            ]
           ]
          },
          "colorway": [
           "#636efa",
           "#EF553B",
           "#00cc96",
           "#ab63fa",
           "#FFA15A",
           "#19d3f3",
           "#FF6692",
           "#B6E880",
           "#FF97FF",
           "#FECB52"
          ],
          "font": {
           "color": "#2a3f5f"
          },
          "geo": {
           "bgcolor": "white",
           "lakecolor": "white",
           "landcolor": "#E5ECF6",
           "showlakes": true,
           "showland": true,
           "subunitcolor": "white"
          },
          "hoverlabel": {
           "align": "left"
          },
          "hovermode": "closest",
          "mapbox": {
           "style": "light"
          },
          "paper_bgcolor": "white",
          "plot_bgcolor": "#E5ECF6",
          "polar": {
           "angularaxis": {
            "gridcolor": "white",
            "linecolor": "white",
            "ticks": ""
           },
           "bgcolor": "#E5ECF6",
           "radialaxis": {
            "gridcolor": "white",
            "linecolor": "white",
            "ticks": ""
           }
          },
          "scene": {
           "xaxis": {
            "backgroundcolor": "#E5ECF6",
            "gridcolor": "white",
            "gridwidth": 2,
            "linecolor": "white",
            "showbackground": true,
            "ticks": "",
            "zerolinecolor": "white"
           },
           "yaxis": {
            "backgroundcolor": "#E5ECF6",
            "gridcolor": "white",
            "gridwidth": 2,
            "linecolor": "white",
            "showbackground": true,
            "ticks": "",
            "zerolinecolor": "white"
           },
           "zaxis": {
            "backgroundcolor": "#E5ECF6",
            "gridcolor": "white",
            "gridwidth": 2,
            "linecolor": "white",
            "showbackground": true,
            "ticks": "",
            "zerolinecolor": "white"
           }
          },
          "shapedefaults": {
           "line": {
            "color": "#2a3f5f"
           }
          },
          "ternary": {
           "aaxis": {
            "gridcolor": "white",
            "linecolor": "white",
            "ticks": ""
           },
           "baxis": {
            "gridcolor": "white",
            "linecolor": "white",
            "ticks": ""
           },
           "bgcolor": "#E5ECF6",
           "caxis": {
            "gridcolor": "white",
            "linecolor": "white",
            "ticks": ""
           }
          },
          "title": {
           "x": 0.05
          },
          "xaxis": {
           "automargin": true,
           "gridcolor": "white",
           "linecolor": "white",
           "ticks": "",
           "title": {
            "standoff": 15
           },
           "zerolinecolor": "white",
           "zerolinewidth": 2
          },
          "yaxis": {
           "automargin": true,
           "gridcolor": "white",
           "linecolor": "white",
           "ticks": "",
           "title": {
            "standoff": 15
           },
           "zerolinecolor": "white",
           "zerolinewidth": 2
          }
         }
        },
        "width": 900,
        "xaxis": {
         "anchor": "y",
         "domain": [
          0,
          1
         ]
        },
        "yaxis": {
         "anchor": "x",
         "autorange": "reversed",
         "domain": [
          0,
          1
         ]
        }
       }
      }
     },
     "metadata": {},
     "output_type": "display_data"
    }
   ],
   "source": [
    "Z_large = linkage(large_egfr_df.values, method = \"ward\", metric = \"euclidean\")\n",
    "row_order_large = leaves_list(Z_large)\n",
    "ordered_data_large = large_egfr_df.values[row_order_large, :]\n",
    "fig = px.imshow(ordered_data_large,\n",
    "                width = 900, height=800,\n",
    "                color_continuous_scale='viridis',\n",
    "                labels = {\"color\": \"Read depth\"},\n",
    "                aspect = 'auto',\n",
    "                zmax = 100)\n",
    "fig.show()"
   ]
  },
  {
   "cell_type": "code",
   "execution_count": 22,
   "id": "18900ed3",
   "metadata": {},
   "outputs": [
    {
     "name": "stdout",
     "output_type": "stream",
     "text": [
      "bin_id  7_52000001_52500000  7_52500001_53000000  7_53000001_53500000  \\\n",
      "count            272.000000           272.000000           272.000000   \n",
      "mean              49.787997            65.552742            64.279669   \n",
      "std               45.987890            60.990412            59.248261   \n",
      "min                4.450901             4.500571             5.468451   \n",
      "25%               22.821768            29.698584            28.399784   \n",
      "50%               38.268570            49.448720            47.761608   \n",
      "75%               55.935836            74.152451            73.532249   \n",
      "max              365.802903           477.821625           459.975603   \n",
      "\n",
      "bin_id  7_53500001_54000000  7_54000001_54500000  7_54500001_55000000  \\\n",
      "count            272.000000           272.000000           272.000000   \n",
      "mean              65.649070            62.807818            66.260061   \n",
      "std               59.648093            57.668432            61.266296   \n",
      "min                4.660358             4.180226             5.199028   \n",
      "25%               30.197187            29.011736            30.510370   \n",
      "50%               50.688333            48.350973            49.493353   \n",
      "75%               77.551788            72.105980            75.326808   \n",
      "max              469.350144           451.634063           471.346782   \n",
      "\n",
      "bin_id  7_55000001_55500000  \n",
      "count            272.000000  \n",
      "mean              38.841233  \n",
      "std               34.923601  \n",
      "min                3.819776  \n",
      "25%               17.901240  \n",
      "50%               29.639439  \n",
      "75%               43.524327  \n",
      "max              267.684746  \n",
      "(272, 10)\n"
     ]
    },
    {
     "data": {
      "image/png": "[encoded data removed]",
      "text/plain": [
       "<Figure size 640x480 with 1 Axes>"
      ]
     },
     "metadata": {},
     "output_type": "display_data"
    }
   ],
   "source": [
    "print(large_egfr_df.iloc[:, 1:8].describe())\n",
    "print(large_egfr_df.shape)\n",
    "# Plot histogram of read depth for large ecDNA group\n",
    "large_egfr_hist = np.histogram(large_egfr_df.iloc[:, :6].values.mean(axis = 1), bins=30, density=True)\n",
    "sns.histplot(large_egfr_df.iloc[:, :6].values.mean(axis = 1), bins=30, kde=True)\n",
    "plt.title(\"Cell-level CN Distribution for Large EGFR ecDNA Group\")\n",
    "plt.xlabel(\"Mean CN (cell)\")\n",
    "plt.ylabel(\"Frequency\")\n",
    "plt.show()"
   ]
  },
  {
   "cell_type": "code",
   "execution_count": 23,
   "id": "4a10c8d0",
   "metadata": {},
   "outputs": [
    {
     "name": "stderr",
     "output_type": "stream",
     "text": [
      "/tmp/ipykernel_1875059/736396761.py:2: MatplotlibDeprecationWarning:\n",
      "\n",
      "The 'labels' parameter of boxplot() has been renamed 'tick_labels' since Matplotlib 3.9; support for the old name will be dropped in 3.11.\n",
      "\n"
     ]
    },
    {
     "data": {
      "image/png": "[encoded data removed]",
      "text/plain": [
       "<Figure size 1000x600 with 1 Axes>"
      ]
     },
     "metadata": {},
     "output_type": "display_data"
    }
   ],
   "source": [
    "plt.figure(figsize = (10, 6))\n",
    "plt.boxplot(large_egfr_df.values, labels = large_egfr_df.columns, showfliers = False)\n",
    "plt.title(\"Copy Number Distribution for GFR ecDNA Group A\")\n",
    "plt.xlabel(\"Bins\")\n",
    "plt.ylabel(\"Copy Number\")\n",
    "plt.xticks(ticks = range(1, len(xtick_labels) + 1), labels = xtick_labels, fontsize = 8)\n",
    "plt.tight_layout()\n",
    "plt.show()\n"
   ]
  },
  {
   "cell_type": "markdown",
   "id": "0a181256",
   "metadata": {},
   "source": [
    "## Parameters for chr7 EGFR ecDNA profile\n",
    "\n",
    "* Major clones\n",
    "    * Group A (large) = 250 ~ 300 cells\n",
    "        * 10 ~ 15 minor clones with different breakpoints\n",
    "        * Starting breakpoint = 52000001 ~ 52500001\n",
    "        * Ending breakpoint = 55000001 ~ 55500001\n",
    "    * Group B (medium) = 20 ~ 25 cells\n",
    "        * 3 ~ 5 minor clones with different breakpoints\n",
    "        * Starting breakpoint = 54000001 ~ 54500001\n",
    "        * Ending breakpoint = 55500001 ~ 56000001\n",
    "    * Group C (small) = 5 ~ 10 cells\n",
    "        * 2 minor clones with different breakpoints\n",
    "        * Starting breakpoint = 54500001 ~ 55000001\n",
    "        * Ending breakpoint = 55000001 ~ 55500001\n",
    "    * Group D (none) = 5 ~ 10 cells\n",
    "\n",
    "* Sub-region of chr7 from 51000001 ~ 56500001"
   ]
  },
  {
   "cell_type": "code",
   "execution_count": 65,
   "id": "85bc9d74",
   "metadata": {},
   "outputs": [
    {
     "name": "stdout",
     "output_type": "stream",
     "text": [
      "{'sample_name': 'PM_0510', 'major_clone_cell_ranges': [[250, 300], [20, 25], [5, 10], [5, 10]], 'bp_clone_cell_ranges': [[10, 15], [3, 5], [2, 2], [1, 1]], 'bp_ranges': [[52000001, 52500001, 55000001, 55500001], [54000001, 54500001, 55500001, 56000001], [54500001, 55000001, 55000001, 55500001], [51000001, 51000001, 56500001, 56500001]], 'clone_cell_counts': [[6, 51, 23, 7, 38, 14, 15, 1, 8, 15, 5, 19, 13, 37], [9, 5, 4, 2], [0, 5], [7]], 'clone_bp_ranges': [[[52141380, 55313529], [52152180, 55346155], [52187807, 55308967], [52196123, 55405393], [52131117, 55345992], [52191533, 55313133], [52162466, 55381641], [52180083, 55323559], [52185425, 55361162], [52205741, 55347701], [52151568, 55383101], [52207303, 55338374], [52180367, 55357819], [52153971, 55393853]], [[54293644, 55822176], [54223039, 55878956], [54297722, 55878269], [54311688, 55856038]], [[54875964, 55385934], [54869823, 55360475]], [[51000001, 56500001]]], 'clone_cn': [[[255, 286, 10, 65, 320, 291], [164, 53, 330, 16, 29, 329, 74, 20, 64, 275, 86, 28, 11, 311, 300, 287, 7, 331, 280, 37, 325, 251, 20, 297, 338, 271, 342, 80, 31, 19, 168, 350, 24, 34, 39, 28, 34, 306, 24, 293, 280, 322, 314, 287, 29, 318, 320, 82, 28, 259, 36], [28, 39, 270, 341, 284, 51, 314, 319, 331, 56, 305, 322, 20, 31, 264, 340, 87, 289, 227, 42, 40, 165, 328], [47, 295, 329, 38, 19, 294, 43], [101, 41, 25, 41, 252, 308, 283, 302, 331, 263, 268, 22, 353, 34, 276, 75, 276, 19, 271, 65, 164, 341, 346, 185, 336, 339, 16, 261, 12, 89, 297, 313, 259, 320, 116, 38, 298, 32], [273, 29, 33, 36, 304, 26, 37, 277, 281, 341, 173, 323, 356, 206], [60, 354, 11, 14, 70, 325, 32, 27, 296, 262, 49, 169, 318, 48, 45], [319], [64, 23, 354, 314, 39, 33, 98, 168], [21, 73, 21, 48, 331, 83, 173, 286, 168, 10, 9, 345, 291, 60, 164], [49, 324, 29, 273, 258], [309, 343, 33, 341, 305, 46, 340, 37, 313, 175, 51, 58, 30, 349, 262, 56, 30, 7, 28], [338, 35, 22, 334, 260, 352, 9, 11, 252, 315, 263, 284, 317], [173, 316, 350, 316, 54, 39, 279, 349, 351, 47, 40, 70, 301, 273, 328, 336, 170, 27, 261, 311, 15, 310, 292, 117, 260, 21, 15, 252, 58, 305, 320, 111, 356, 315, 256, 319, 273]], [[18, 31, 55, 51, 66, 149, 37, 53, 25], [50, 56, 66, 41, 59], [27, 56, 37, 70], [154, 42]], [[], [4, 2, 3, 3, 5]], [[0, 0, 0, 0, 0, 0, 0]]]}\n"
     ]
    }
   ],
   "source": [
    "# Assign cell counts per clone\n",
    "major_clone_cell_ranges = [[250, 300], [20, 25], [5, 10], [5, 10]]\n",
    "bp_clone_cell_ranges = [[10, 15], [3, 5], [2, 2], [1, 1]]\n",
    "bp_ranges = [[52000001, 52500001, 55000001, 55500001],\n",
    "             [54000001, 54500001, 55500001, 56000001],\n",
    "             [54500001, 55000001, 55000001, 55500001],\n",
    "             [51000001, 51000001, 56500001, 56500001]]\n",
    "state_histograms = [large_egfr_hist, medium_egfr_hist, small_egfr_hist, None]\n",
    "\n",
    "def get_bp_intervals(interval, length = 100000):\n",
    "    start, end = interval\n",
    "    if end - start < length:\n",
    "        raise ValueError(f\"Interval {interval} is too short for length {length}.\")\n",
    "    random_start = np.random.randint(start, end - length)\n",
    "    random_end = random_start + length\n",
    "    return [random_start, random_end]\n",
    "\n",
    "def assign_cell_counts(major_clone_cell_ranges, bp_clone_cell_ranges, bp_ranges):\n",
    "    clone_cell_counts = []\n",
    "    clone_bp_ranges = []\n",
    "    for i, (min_cells, max_cells) in enumerate(major_clone_cell_ranges):\n",
    "        major_clone_cell_count = np.random.randint(min_cells, max_cells + 1)\n",
    "        bp_clone_count = np.random.randint(bp_clone_cell_ranges[i][0], bp_clone_cell_ranges[i][1] + 1)\n",
    "        # Split major clone_cell count in bp_clone_count groups\n",
    "        if bp_clone_count > 1:\n",
    "            probs = np.random.dirichlet(np.ones(bp_clone_count))\n",
    "            bp_clone_cell_counts = np.random.multinomial(major_clone_cell_count, probs)\n",
    "            major_clone_bp = []\n",
    "            bp_start_range = get_bp_intervals(bp_ranges[i][:2])\n",
    "            bp_end_range = get_bp_intervals(bp_ranges[i][2:])\n",
    "            for j in range(bp_clone_count):\n",
    "                bp_start = np.random.randint(bp_start_range[0], bp_start_range[1])\n",
    "                bp_end = np.random.randint(bp_end_range[0], bp_end_range[1])\n",
    "                major_clone_bp.append([bp_start, bp_end])\n",
    "            bp_clone_cell_counts = bp_clone_cell_counts.tolist()\n",
    "        else:\n",
    "            bp_clone_cell_counts = [major_clone_cell_count]\n",
    "            major_clone_bp = [[bp_ranges[i][0], bp_ranges[i][2]]]\n",
    "        clone_cell_counts.append(bp_clone_cell_counts)\n",
    "        clone_bp_ranges.append(major_clone_bp)\n",
    "    return clone_cell_counts, clone_bp_ranges\n",
    "\n",
    "def assign_cn(cn_histograms, clone_cell_counts):\n",
    "    clone_cn = []\n",
    "    for i, histogram in enumerate(cn_histograms):\n",
    "        major_clone_cn = []\n",
    "        if histogram == None:\n",
    "            for minor_clone_cells in clone_cell_counts[i]:\n",
    "                if minor_clone_cells == 0:\n",
    "                    major_clone_cn.append([])\n",
    "                else:\n",
    "                    major_clone_cn.append([0] * minor_clone_cells) \n",
    "        else:\n",
    "            counts = [x if x > 0 else 0.01 for x in histogram[0]]\n",
    "            probabilities = counts / np.sum(counts)\n",
    "            bin_edges = histogram[1]\n",
    "            for minor_clone_cells in clone_cell_counts[i]:\n",
    "                if minor_clone_cells == 0:\n",
    "                    major_clone_cn.append([])\n",
    "                else:\n",
    "                    bin_indices = np.random.choice(len(probabilities), size = minor_clone_cells, p = probabilities)\n",
    "                    sampled_bins = np.random.uniform(low = bin_edges[:-1][bin_indices], high = bin_edges[1:][bin_indices])\n",
    "                    states = np.round(sampled_bins).astype(int)\n",
    "                    major_clone_cn.append(states.tolist())\n",
    "        clone_cn.append(major_clone_cn)\n",
    "    return clone_cn\n",
    "\n",
    "clone_cell_counts, clone_bp_ranges = assign_cell_counts(major_clone_cell_ranges, bp_clone_cell_ranges, bp_ranges)\n",
    "clone_cn = assign_cn(state_histograms, clone_cell_counts)\n",
    "\n",
    "metadata = {\n",
    "    \"sample_name\": sample_name,\n",
    "    \"major_clone_cell_ranges\": major_clone_cell_ranges,\n",
    "    \"bp_clone_cell_ranges\": bp_clone_cell_ranges,\n",
    "    \"bp_ranges\": bp_ranges,\n",
    "    \"clone_cell_counts\": clone_cell_counts,\n",
    "    \"clone_bp_ranges\": clone_bp_ranges,\n",
    "    \"clone_cn\": clone_cn\n",
    "}\n",
    "print(metadata)\n",
    "\n",
    "with open(f\"{BASEDIR}/synthetic_bams_2/{sample_name}_EGFR_2/{sample_name}_EGFR_2_metadata.json\", \"w\") as f:\n",
    "    json.dump(metadata, f, indent=4)"
   ]
  },
  {
   "cell_type": "code",
   "execution_count": 66,
   "id": "14b4561c",
   "metadata": {},
   "outputs": [
    {
     "name": "stdout",
     "output_type": "stream",
     "text": [
      "[[[255, 286, 10, 65, 320, 291], [164, 53, 330, 16, 29, 329, 74, 20, 64, 275, 86, 28, 11, 311, 300, 287, 7, 331, 280, 37, 325, 251, 20, 297, 338, 271, 342, 80, 31, 19, 168, 350, 24, 34, 39, 28, 34, 306, 24, 293, 280, 322, 314, 287, 29, 318, 320, 82, 28, 259, 36], [28, 39, 270, 341, 284, 51, 314, 319, 331, 56, 305, 322, 20, 31, 264, 340, 87, 289, 227, 42, 40, 165, 328], [47, 295, 329, 38, 19, 294, 43], [101, 41, 25, 41, 252, 308, 283, 302, 331, 263, 268, 22, 353, 34, 276, 75, 276, 19, 271, 65, 164, 341, 346, 185, 336, 339, 16, 261, 12, 89, 297, 313, 259, 320, 116, 38, 298, 32], [273, 29, 33, 36, 304, 26, 37, 277, 281, 341, 173, 323, 356, 206], [60, 354, 11, 14, 70, 325, 32, 27, 296, 262, 49, 169, 318, 48, 45], [319], [64, 23, 354, 314, 39, 33, 98, 168], [21, 73, 21, 48, 331, 83, 173, 286, 168, 10, 9, 345, 291, 60, 164], [49, 324, 29, 273, 258], [309, 343, 33, 341, 305, 46, 340, 37, 313, 175, 51, 58, 30, 349, 262, 56, 30, 7, 28], [338, 35, 22, 334, 260, 352, 9, 11, 252, 315, 263, 284, 317], [173, 316, 350, 316, 54, 39, 279, 349, 351, 47, 40, 70, 301, 273, 328, 336, 170, 27, 261, 311, 15, 310, 292, 117, 260, 21, 15, 252, 58, 305, 320, 111, 356, 315, 256, 319, 273]], [[18, 31, 55, 51, 66, 149, 37, 53, 25], [50, 56, 66, 41, 59], [27, 56, 37, 70], [154, 42]], [[], [4, 2, 3, 3, 5]], [[0, 0, 0, 0, 0, 0, 0]]]\n",
      "4\n",
      "[[6, 51, 23, 7, 38, 14, 15, 1, 8, 15, 5, 19, 13, 37], [9, 5, 4, 2], [0, 5], [7]]\n",
      "[[0, 0, 0, 0, 0, 0, 0]]\n"
     ]
    }
   ],
   "source": [
    "print(metadata[\"clone_cn\"])\n",
    "print(len(metadata[\"clone_cn\"]))\n",
    "print(metadata[\"clone_cell_counts\"])\n",
    "\n",
    "print(clone_cn[3])"
   ]
  },
  {
   "cell_type": "code",
   "execution_count": 72,
   "id": "be658165",
   "metadata": {},
   "outputs": [
    {
     "data": {
      "text/html": [
       "<div>\n",
       "<style scoped>\n",
       "    .dataframe tbody tr th:only-of-type {\n",
       "        vertical-align: middle;\n",
       "    }\n",
       "\n",
       "    .dataframe tbody tr th {\n",
       "        vertical-align: top;\n",
       "    }\n",
       "\n",
       "    .dataframe thead th {\n",
       "        text-align: right;\n",
       "    }\n",
       "</style>\n",
       "<table border=\"1\" class=\"dataframe\">\n",
       "  <thead>\n",
       "    <tr style=\"text-align: right;\">\n",
       "      <th></th>\n",
       "      <th>clone</th>\n",
       "      <th>chr</th>\n",
       "      <th>start</th>\n",
       "      <th>end</th>\n",
       "      <th>copy_number</th>\n",
       "      <th>state</th>\n",
       "      <th>size</th>\n",
       "      <th>cell_count</th>\n",
       "    </tr>\n",
       "  </thead>\n",
       "  <tbody>\n",
       "    <tr>\n",
       "      <th>0</th>\n",
       "      <td>0</td>\n",
       "      <td>7</td>\n",
       "      <td>51000001</td>\n",
       "      <td>52141380</td>\n",
       "      <td>2</td>\n",
       "      <td>0</td>\n",
       "      <td>1141379</td>\n",
       "      <td>1</td>\n",
       "    </tr>\n",
       "    <tr>\n",
       "      <th>1</th>\n",
       "      <td>0</td>\n",
       "      <td>7</td>\n",
       "      <td>52141380</td>\n",
       "      <td>55313529</td>\n",
       "      <td>255</td>\n",
       "      <td>253</td>\n",
       "      <td>3172149</td>\n",
       "      <td>1</td>\n",
       "    </tr>\n",
       "    <tr>\n",
       "      <th>2</th>\n",
       "      <td>0</td>\n",
       "      <td>7</td>\n",
       "      <td>55313529</td>\n",
       "      <td>56500001</td>\n",
       "      <td>2</td>\n",
       "      <td>0</td>\n",
       "      <td>1186472</td>\n",
       "      <td>1</td>\n",
       "    </tr>\n",
       "    <tr>\n",
       "      <th>3</th>\n",
       "      <td>1</td>\n",
       "      <td>7</td>\n",
       "      <td>51000001</td>\n",
       "      <td>52141380</td>\n",
       "      <td>2</td>\n",
       "      <td>0</td>\n",
       "      <td>1141379</td>\n",
       "      <td>1</td>\n",
       "    </tr>\n",
       "    <tr>\n",
       "      <th>4</th>\n",
       "      <td>1</td>\n",
       "      <td>7</td>\n",
       "      <td>52141380</td>\n",
       "      <td>55313529</td>\n",
       "      <td>286</td>\n",
       "      <td>284</td>\n",
       "      <td>3172149</td>\n",
       "      <td>1</td>\n",
       "    </tr>\n",
       "    <tr>\n",
       "      <th>...</th>\n",
       "      <td>...</td>\n",
       "      <td>...</td>\n",
       "      <td>...</td>\n",
       "      <td>...</td>\n",
       "      <td>...</td>\n",
       "      <td>...</td>\n",
       "      <td>...</td>\n",
       "      <td>...</td>\n",
       "    </tr>\n",
       "    <tr>\n",
       "      <th>847</th>\n",
       "      <td>282</td>\n",
       "      <td>7</td>\n",
       "      <td>51000001</td>\n",
       "      <td>56500001</td>\n",
       "      <td>0</td>\n",
       "      <td>-2</td>\n",
       "      <td>5500000</td>\n",
       "      <td>1</td>\n",
       "    </tr>\n",
       "    <tr>\n",
       "      <th>848</th>\n",
       "      <td>282</td>\n",
       "      <td>7</td>\n",
       "      <td>56500001</td>\n",
       "      <td>56500001</td>\n",
       "      <td>2</td>\n",
       "      <td>0</td>\n",
       "      <td>0</td>\n",
       "      <td>1</td>\n",
       "    </tr>\n",
       "    <tr>\n",
       "      <th>849</th>\n",
       "      <td>283</td>\n",
       "      <td>7</td>\n",
       "      <td>51000001</td>\n",
       "      <td>51000001</td>\n",
       "      <td>2</td>\n",
       "      <td>0</td>\n",
       "      <td>0</td>\n",
       "      <td>1</td>\n",
       "    </tr>\n",
       "    <tr>\n",
       "      <th>850</th>\n",
       "      <td>283</td>\n",
       "      <td>7</td>\n",
       "      <td>51000001</td>\n",
       "      <td>56500001</td>\n",
       "      <td>0</td>\n",
       "      <td>-2</td>\n",
       "      <td>5500000</td>\n",
       "      <td>1</td>\n",
       "    </tr>\n",
       "    <tr>\n",
       "      <th>851</th>\n",
       "      <td>283</td>\n",
       "      <td>7</td>\n",
       "      <td>56500001</td>\n",
       "      <td>56500001</td>\n",
       "      <td>2</td>\n",
       "      <td>0</td>\n",
       "      <td>0</td>\n",
       "      <td>1</td>\n",
       "    </tr>\n",
       "  </tbody>\n",
       "</table>\n",
       "<p>852 rows × 8 columns</p>\n",
       "</div>"
      ],
      "text/plain": [
       "     clone  chr     start       end  copy_number  state     size  cell_count\n",
       "0        0    7  51000001  52141380            2      0  1141379           1\n",
       "1        0    7  52141380  55313529          255    253  3172149           1\n",
       "2        0    7  55313529  56500001            2      0  1186472           1\n",
       "3        1    7  51000001  52141380            2      0  1141379           1\n",
       "4        1    7  52141380  55313529          286    284  3172149           1\n",
       "..     ...  ...       ...       ...          ...    ...      ...         ...\n",
       "847    282    7  51000001  56500001            0     -2  5500000           1\n",
       "848    282    7  56500001  56500001            2      0        0           1\n",
       "849    283    7  51000001  51000001            2      0        0           1\n",
       "850    283    7  51000001  56500001            0     -2  5500000           1\n",
       "851    283    7  56500001  56500001            2      0        0           1\n",
       "\n",
       "[852 rows x 8 columns]"
      ]
     },
     "execution_count": 72,
     "metadata": {},
     "output_type": "execute_result"
    }
   ],
   "source": [
    "def make_ecdna_cnv_profile(clone_cell_counts, clone_bp_ranges, clone_cn, chr, chr_start, chr_end):\n",
    "    \"\"\"\n",
    "    Generate a CNV profile with 3 segments per clone: upstream (2), ecdna (copy_number), downstream (2).\n",
    "    \"\"\"\n",
    "    cnv_profile = []\n",
    "    clone_num = 0\n",
    "    for i, clone_counts in enumerate(clone_cell_counts): # Major clones\n",
    "        for j, cell_count in enumerate(clone_counts): # Minor clones\n",
    "            if cell_count <= 0:\n",
    "                continue\n",
    "            bp_start, bp_end = clone_bp_ranges[i][j]\n",
    "            \n",
    "            for cell_idx in range(cell_count):\n",
    "                # print(f\"({i}, {j}), cell_count = {cell_count}, minor clone cn = {clone_cn[i][j]}, cell_idx = {cell_idx}\")\n",
    "                cn = clone_cn[i][j][cell_idx]\n",
    "                # print(cn)\n",
    "\n",
    "                segments = [\n",
    "                    (chr_start, bp_start, 2),            # upstream\n",
    "                    (bp_start, bp_end, cn),              # ecdna\n",
    "                    (bp_end, chr_end, 2)                 # downstream\n",
    "                ]\n",
    "                for start, end, copy_number in segments:\n",
    "                    cnv_profile.append({\n",
    "                        \"clone\": clone_num,\n",
    "                        \"chr\": chr,\n",
    "                        \"start\": start,\n",
    "                        \"end\": end,\n",
    "                        \"copy_number\": copy_number,\n",
    "                        \"state\": copy_number - 2,\n",
    "                        \"size\": end - start,\n",
    "                        \"cell_count\": 1\n",
    "                    })\n",
    "                clone_num += 1\n",
    "\n",
    "    return pd.DataFrame(cnv_profile)\n",
    "\n",
    "# Create CNV profile for chr7 EGFR ecDNA\n",
    "chr7_EGFR_profile = make_ecdna_cnv_profile(clone_cell_counts,\n",
    "                                           clone_bp_ranges,\n",
    "                                           clone_cn,\n",
    "                                           chr=7,\n",
    "                                           chr_start=51000001,\n",
    "                                           chr_end=56500001)\n",
    "\n",
    "chr7_EGFR_profile.to_csv(f\"{BASEDIR}/synthetic_bams_2/{sample_name}_EGFR_2/{sample_name}_EGFR_2_cnv_profile.tsv\", sep=\"\\t\", index=False)\n",
    "\n",
    "chr7_EGFR_profile"
   ]
  },
  {
   "cell_type": "code",
   "execution_count": 169,
   "id": "4b8e696c",
   "metadata": {},
   "outputs": [
    {
     "name": "stderr",
     "output_type": "stream",
     "text": [
      "/tmp/ipykernel_678024/2458435588.py:14: UserWarning:\n",
      "\n",
      "No artists with labels found to put in legend.  Note that artists whose label start with an underscore are ignored when legend() is called with no argument.\n",
      "\n"
     ]
    },
    {
     "data": {
      "image/png": "[encoded data removed]",
      "text/plain": [
       "<Figure size 1000x600 with 1 Axes>"
      ]
     },
     "metadata": {},
     "output_type": "display_data"
    }
   ],
   "source": [
    "counts, bin_edges = np.histogram(large_egfr_df.iloc[:, 1:8].values.mean(axis = 1), bins=30)\n",
    "probabilities = counts / counts.sum()\n",
    "\n",
    "n_samples = 200\n",
    "bin_indices = np.random.choice(len(probabilities), size = n_samples, p = probabilities)\n",
    "sampled_bins = np.random.uniform(low = bin_edges[bin_indices], high = bin_edges[bin_indices + 1])\n",
    "sampled_bins = np.round(sampled_bins).astype(int)\n",
    "\n",
    "plt.figure(figsize=(10, 6))\n",
    "sns.histplot(sampled_bins, bins=30, kde = True)\n",
    "plt.title(\"Sampled Distribution of Mean State for Large EGFR ecDNA Group\")\n",
    "plt.xlabel(\"Mean State (cell)\")\n",
    "plt.ylabel(\"Density\")\n",
    "plt.legend()\n",
    "plt.show()"
   ]
  },
  {
   "cell_type": "code",
   "execution_count": 14,
   "id": "b0a41c9e",
   "metadata": {},
   "outputs": [
    {
     "data": {
      "image/png": "[encoded data removed]",
      "text/plain": [
       "<Figure size 1000x600 with 1 Axes>"
      ]
     },
     "metadata": {},
     "output_type": "display_data"
    }
   ],
   "source": [
    "# Read depth distribution\n",
    "plt.figure(figsize=(10, 6))\n",
    "sns.histplot(chr7_ecdna_df[\"copy\"], bins=50, kde=True)\n",
    "plt.title(\"Read Depth Distribution in ECDNA Region on Chromosome 7\")\n",
    "plt.xlabel(\"Read Depth\")\n",
    "plt.ylabel(\"Frequency\")\n",
    "# Show quantiles\n",
    "quantiles = chr7_ecdna_df[\"copy\"].quantile([0.25, 0.5, 0.75, 0.9, 0.95, 0.99])\n",
    "for q in quantiles:\n",
    "    plt.axvline(q, color='red', linestyle='--', label=f'Quantile: {q:.2f}')\n",
    "plt.legend()\n",
    "plt.tight_layout()\n",
    "\n",
    "plt.show()"
   ]
  }
 ],
 "metadata": {
  "kernelspec": {
   "display_name": "scanpy_env",
   "language": "python",
   "name": "python3"
  },
  "language_info": {
   "codemirror_mode": {
    "name": "ipython",
    "version": 3
   },
   "file_extension": ".py",
   "mimetype": "text/x-python",
   "name": "python",
   "nbconvert_exporter": "python",
   "pygments_lexer": "ipython3",
   "version": "3.10.16"
  }
 },
 "nbformat": 4,
 "nbformat_minor": 5
}
