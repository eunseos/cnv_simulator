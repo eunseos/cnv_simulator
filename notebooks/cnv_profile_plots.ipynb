{
 "cells": [
  {
   "cell_type": "code",
   "execution_count": 2,
   "id": "65d9c415",
   "metadata": {},
   "outputs": [],
   "source": [
    "import pandas as pd\n",
    "import numpy as np\n",
    "import os\n",
    "import sys\n",
    "import matplotlib.pyplot as plt\n",
    "import seaborn as sns\n",
    "import pysam\n",
    "\n",
    "BASEDIR = \"/data1/shahs3/users/sunge/cnv_simulator\"\n",
    "DATADIR = f\"{BASEDIR}/data\""
   ]
  },
  {
   "cell_type": "markdown",
   "id": "a47bc7fc",
   "metadata": {},
   "source": [
    "## Plot simulated ground-truth CNV profiles"
   ]
  },
  {
   "cell_type": "code",
   "execution_count": 5,
   "id": "c48fcb85",
   "metadata": {},
   "outputs": [
    {
     "data": {
      "text/html": [
       "<div>\n",
       "<style scoped>\n",
       "    .dataframe tbody tr th:only-of-type {\n",
       "        vertical-align: middle;\n",
       "    }\n",
       "\n",
       "    .dataframe tbody tr th {\n",
       "        vertical-align: top;\n",
       "    }\n",
       "\n",
       "    .dataframe thead th {\n",
       "        text-align: right;\n",
       "    }\n",
       "</style>\n",
       "<table border=\"1\" class=\"dataframe\">\n",
       "  <thead>\n",
       "    <tr style=\"text-align: right;\">\n",
       "      <th></th>\n",
       "      <th>clone</th>\n",
       "      <th>chr</th>\n",
       "      <th>start</th>\n",
       "      <th>end</th>\n",
       "      <th>copy_number</th>\n",
       "      <th>state</th>\n",
       "      <th>size</th>\n",
       "      <th>cell_barcode</th>\n",
       "      <th>cell_group</th>\n",
       "    </tr>\n",
       "  </thead>\n",
       "  <tbody>\n",
       "    <tr>\n",
       "      <th>0</th>\n",
       "      <td>1</td>\n",
       "      <td>1</td>\n",
       "      <td>0</td>\n",
       "      <td>86271456</td>\n",
       "      <td>0</td>\n",
       "      <td>2</td>\n",
       "      <td>86271456.0</td>\n",
       "      <td>128708A-R42-C29,128640A-R56-C52,128640A-R44-C1...</td>\n",
       "      <td>12,12,12,12,12,12,12,12,12,12</td>\n",
       "    </tr>\n",
       "    <tr>\n",
       "      <th>1</th>\n",
       "      <td>1</td>\n",
       "      <td>1</td>\n",
       "      <td>86271456</td>\n",
       "      <td>88271456</td>\n",
       "      <td>8</td>\n",
       "      <td>10</td>\n",
       "      <td>2000000.0</td>\n",
       "      <td>128640A-R13-C29,128640A-R14-C54,128640A-R16-C1...</td>\n",
       "      <td>12,12,12,12,12,12,12,12,12,12,12,12,12,12,12,1...</td>\n",
       "    </tr>\n",
       "    <tr>\n",
       "      <th>2</th>\n",
       "      <td>1</td>\n",
       "      <td>1</td>\n",
       "      <td>88271456</td>\n",
       "      <td>89621519</td>\n",
       "      <td>0</td>\n",
       "      <td>2</td>\n",
       "      <td>1350063.0</td>\n",
       "      <td>128708A-R42-C29,128640A-R56-C52,128640A-R44-C1...</td>\n",
       "      <td>12,12,12,12,12,12,12,12,12,12</td>\n",
       "    </tr>\n",
       "    <tr>\n",
       "      <th>3</th>\n",
       "      <td>1</td>\n",
       "      <td>1</td>\n",
       "      <td>89621519</td>\n",
       "      <td>91621519</td>\n",
       "      <td>11</td>\n",
       "      <td>13</td>\n",
       "      <td>2000000.0</td>\n",
       "      <td>128640A-R14-C27,128640A-R15-C13,128640A-R17-C2...</td>\n",
       "      <td>12,12,12,12,12,12,12,12,12,12,12,12,12,12,12,1...</td>\n",
       "    </tr>\n",
       "    <tr>\n",
       "      <th>4</th>\n",
       "      <td>1</td>\n",
       "      <td>1</td>\n",
       "      <td>91621519</td>\n",
       "      <td>249250621</td>\n",
       "      <td>0</td>\n",
       "      <td>2</td>\n",
       "      <td>157629102.0</td>\n",
       "      <td>128708A-R42-C29,128640A-R56-C52,128640A-R44-C1...</td>\n",
       "      <td>12,12,12,12,12,12,12,12,12,12</td>\n",
       "    </tr>\n",
       "  </tbody>\n",
       "</table>\n",
       "</div>"
      ],
      "text/plain": [
       "   clone  chr     start        end  copy_number  state         size  \\\n",
       "0      1    1         0   86271456            0      2   86271456.0   \n",
       "1      1    1  86271456   88271456            8     10    2000000.0   \n",
       "2      1    1  88271456   89621519            0      2    1350063.0   \n",
       "3      1    1  89621519   91621519           11     13    2000000.0   \n",
       "4      1    1  91621519  249250621            0      2  157629102.0   \n",
       "\n",
       "                                        cell_barcode  \\\n",
       "0  128708A-R42-C29,128640A-R56-C52,128640A-R44-C1...   \n",
       "1  128640A-R13-C29,128640A-R14-C54,128640A-R16-C1...   \n",
       "2  128708A-R42-C29,128640A-R56-C52,128640A-R44-C1...   \n",
       "3  128640A-R14-C27,128640A-R15-C13,128640A-R17-C2...   \n",
       "4  128708A-R42-C29,128640A-R56-C52,128640A-R44-C1...   \n",
       "\n",
       "                                          cell_group  \n",
       "0                      12,12,12,12,12,12,12,12,12,12  \n",
       "1  12,12,12,12,12,12,12,12,12,12,12,12,12,12,12,1...  \n",
       "2                      12,12,12,12,12,12,12,12,12,12  \n",
       "3  12,12,12,12,12,12,12,12,12,12,12,12,12,12,12,1...  \n",
       "4                      12,12,12,12,12,12,12,12,12,12  "
      ]
     },
     "execution_count": 5,
     "metadata": {},
     "output_type": "execute_result"
    }
   ],
   "source": [
    "# Load CNV profile data\n",
    "test_name = \"minitest_c1_1\"\n",
    "cnv_profile_df = pd.read_csv(f\"{DATADIR}/small_cnv_profiles/{test_name}_cnv_profile.tsv\", sep=\"\\t\")\n",
    "\n",
    "cnv_profile_df"
   ]
  },
  {
   "cell_type": "code",
   "execution_count": null,
   "id": "c33d48b0",
   "metadata": {},
   "outputs": [
    {
     "name": "stdout",
     "output_type": "stream",
     "text": [
      "1\n"
     ]
    },
    {
     "data": {
      "image/png": "[encoded data removed]",
      "text/plain": [
       "<Figure size 1500x500 with 1 Axes>"
      ]
     },
     "metadata": {},
     "output_type": "display_data"
    }
   ],
   "source": [
    "chr_lengths = \n",
    "\n",
    "plt.figure(figsize = (15, 5))\n",
    "for clone in cnv_profile_df[\"clone\"].unique():\n",
    "    print(clone)\n",
    "    clone_df = cnv_profile_df[cnv_profile_df[\"clone\"] == clone]\n",
    "    for _, row in clone_df.iterrows():\n",
    "        plt.plot([row[\"start\"], row[\"end\"]], [row[\"copy_number\"]] * 2,\n",
    "                 label = f\"Clone {clone}\",\n",
    "                 alpha = 0.5)\n",
    "plt.xlabel(\"Position\")\n",
    "plt.ylabel(\"Copy Number\")\n",
    "plt.title(f\"CNV Profile for {test_name}\")\n",
    "plt.legend(title = \"clone\")\n",
    "plt.tight_layout()\n",
    "plt.show()"
   ]
  }
 ],
 "metadata": {
  "kernelspec": {
   "display_name": "scanpy_kernel",
   "language": "python",
   "name": "scanpy_kernel"
  },
  "language_info": {
   "codemirror_mode": {
    "name": "ipython",
    "version": 3
   },
   "file_extension": ".py",
   "mimetype": "text/x-python",
   "name": "python",
   "nbconvert_exporter": "python",
   "pygments_lexer": "ipython3",
   "version": "3.10.16"
  }
 },
 "nbformat": 4,
 "nbformat_minor": 5
}
